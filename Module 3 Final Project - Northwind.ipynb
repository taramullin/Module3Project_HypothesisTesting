{
 "cells": [
  {
   "cell_type": "markdown",
   "metadata": {},
   "source": [
    "# Module 3 Final Project - Hypothesis Testing"
   ]
  },
  {
   "cell_type": "markdown",
   "metadata": {},
   "source": [
    "* Student name: Tara Mullin\n",
    "* Student pace: Part time\n",
    "* Scheduled project review date/time: 8/29/19 3:15pm EST\n",
    "* Instructor name: Victor Geislinger \n",
    "* Blog post URL: TBD"
   ]
  },
  {
   "cell_type": "markdown",
   "metadata": {
    "heading_collapsed": true
   },
   "source": [
    "## Importing Libraries and Data from SQL"
   ]
  },
  {
   "cell_type": "code",
   "execution_count": 2,
   "metadata": {
    "hidden": true
   },
   "outputs": [],
   "source": [
    "import pandas as pd\n",
    "import numpy as np\n",
    "from scipy import stats \n",
    "import math\n",
    "\n",
    "# For visualizations\n",
    "import seaborn as sns\n",
    "import matplotlib.pyplot as plt"
   ]
  },
  {
   "cell_type": "code",
   "execution_count": 3,
   "metadata": {
    "hidden": true
   },
   "outputs": [],
   "source": [
    "#Use sqlite3 to get the data\n",
    "import sqlite3\n",
    "conn = sqlite3.connect('Northwind_small.sqlite')\n",
    "cur = conn.cursor()"
   ]
  },
  {
   "cell_type": "code",
   "execution_count": 4,
   "metadata": {
    "hidden": true
   },
   "outputs": [],
   "source": [
    "#create pandas df\n",
    "cur.execute('''SELECT * \n",
    "               FROM OrderDetail;''')\n",
    "Order = pd.DataFrame(cur.fetchall())\n",
    "Order.columns = [x[0] for x in cur.description]"
   ]
  },
  {
   "cell_type": "code",
   "execution_count": 5,
   "metadata": {
    "hidden": true
   },
   "outputs": [
    {
     "data": {
      "text/html": [
       "<div>\n",
       "<style scoped>\n",
       "    .dataframe tbody tr th:only-of-type {\n",
       "        vertical-align: middle;\n",
       "    }\n",
       "\n",
       "    .dataframe tbody tr th {\n",
       "        vertical-align: top;\n",
       "    }\n",
       "\n",
       "    .dataframe thead th {\n",
       "        text-align: right;\n",
       "    }\n",
       "</style>\n",
       "<table border=\"1\" class=\"dataframe\">\n",
       "  <thead>\n",
       "    <tr style=\"text-align: right;\">\n",
       "      <th></th>\n",
       "      <th>Id</th>\n",
       "      <th>OrderId</th>\n",
       "      <th>ProductId</th>\n",
       "      <th>UnitPrice</th>\n",
       "      <th>Quantity</th>\n",
       "      <th>Discount</th>\n",
       "    </tr>\n",
       "  </thead>\n",
       "  <tbody>\n",
       "    <tr>\n",
       "      <th>0</th>\n",
       "      <td>10248/11</td>\n",
       "      <td>10248</td>\n",
       "      <td>11</td>\n",
       "      <td>14.0</td>\n",
       "      <td>12</td>\n",
       "      <td>0.0</td>\n",
       "    </tr>\n",
       "    <tr>\n",
       "      <th>1</th>\n",
       "      <td>10248/42</td>\n",
       "      <td>10248</td>\n",
       "      <td>42</td>\n",
       "      <td>9.8</td>\n",
       "      <td>10</td>\n",
       "      <td>0.0</td>\n",
       "    </tr>\n",
       "    <tr>\n",
       "      <th>2</th>\n",
       "      <td>10248/72</td>\n",
       "      <td>10248</td>\n",
       "      <td>72</td>\n",
       "      <td>34.8</td>\n",
       "      <td>5</td>\n",
       "      <td>0.0</td>\n",
       "    </tr>\n",
       "    <tr>\n",
       "      <th>3</th>\n",
       "      <td>10249/14</td>\n",
       "      <td>10249</td>\n",
       "      <td>14</td>\n",
       "      <td>18.6</td>\n",
       "      <td>9</td>\n",
       "      <td>0.0</td>\n",
       "    </tr>\n",
       "    <tr>\n",
       "      <th>4</th>\n",
       "      <td>10249/51</td>\n",
       "      <td>10249</td>\n",
       "      <td>51</td>\n",
       "      <td>42.4</td>\n",
       "      <td>40</td>\n",
       "      <td>0.0</td>\n",
       "    </tr>\n",
       "  </tbody>\n",
       "</table>\n",
       "</div>"
      ],
      "text/plain": [
       "         Id  OrderId  ProductId  UnitPrice  Quantity  Discount\n",
       "0  10248/11    10248         11       14.0        12       0.0\n",
       "1  10248/42    10248         42        9.8        10       0.0\n",
       "2  10248/72    10248         72       34.8         5       0.0\n",
       "3  10249/14    10249         14       18.6         9       0.0\n",
       "4  10249/51    10249         51       42.4        40       0.0"
      ]
     },
     "execution_count": 5,
     "metadata": {},
     "output_type": "execute_result"
    }
   ],
   "source": [
    "Order.head()"
   ]
  },
  {
   "cell_type": "code",
   "execution_count": 6,
   "metadata": {
    "hidden": true
   },
   "outputs": [
    {
     "data": {
      "text/html": [
       "<div>\n",
       "<style scoped>\n",
       "    .dataframe tbody tr th:only-of-type {\n",
       "        vertical-align: middle;\n",
       "    }\n",
       "\n",
       "    .dataframe tbody tr th {\n",
       "        vertical-align: top;\n",
       "    }\n",
       "\n",
       "    .dataframe thead th {\n",
       "        text-align: right;\n",
       "    }\n",
       "</style>\n",
       "<table border=\"1\" class=\"dataframe\">\n",
       "  <thead>\n",
       "    <tr style=\"text-align: right;\">\n",
       "      <th></th>\n",
       "      <th>OrderId</th>\n",
       "      <th>ProductId</th>\n",
       "      <th>UnitPrice</th>\n",
       "      <th>Quantity</th>\n",
       "      <th>Discount</th>\n",
       "    </tr>\n",
       "  </thead>\n",
       "  <tbody>\n",
       "    <tr>\n",
       "      <th>count</th>\n",
       "      <td>2155.000000</td>\n",
       "      <td>2155.000000</td>\n",
       "      <td>2155.000000</td>\n",
       "      <td>2155.000000</td>\n",
       "      <td>2155.000000</td>\n",
       "    </tr>\n",
       "    <tr>\n",
       "      <th>mean</th>\n",
       "      <td>10659.375870</td>\n",
       "      <td>40.793039</td>\n",
       "      <td>26.218520</td>\n",
       "      <td>23.812993</td>\n",
       "      <td>0.056167</td>\n",
       "    </tr>\n",
       "    <tr>\n",
       "      <th>std</th>\n",
       "      <td>241.378032</td>\n",
       "      <td>22.159019</td>\n",
       "      <td>29.827418</td>\n",
       "      <td>19.022047</td>\n",
       "      <td>0.083450</td>\n",
       "    </tr>\n",
       "    <tr>\n",
       "      <th>min</th>\n",
       "      <td>10248.000000</td>\n",
       "      <td>1.000000</td>\n",
       "      <td>2.000000</td>\n",
       "      <td>1.000000</td>\n",
       "      <td>0.000000</td>\n",
       "    </tr>\n",
       "    <tr>\n",
       "      <th>25%</th>\n",
       "      <td>10451.000000</td>\n",
       "      <td>22.000000</td>\n",
       "      <td>12.000000</td>\n",
       "      <td>10.000000</td>\n",
       "      <td>0.000000</td>\n",
       "    </tr>\n",
       "    <tr>\n",
       "      <th>50%</th>\n",
       "      <td>10657.000000</td>\n",
       "      <td>41.000000</td>\n",
       "      <td>18.400000</td>\n",
       "      <td>20.000000</td>\n",
       "      <td>0.000000</td>\n",
       "    </tr>\n",
       "    <tr>\n",
       "      <th>75%</th>\n",
       "      <td>10862.500000</td>\n",
       "      <td>60.000000</td>\n",
       "      <td>32.000000</td>\n",
       "      <td>30.000000</td>\n",
       "      <td>0.100000</td>\n",
       "    </tr>\n",
       "    <tr>\n",
       "      <th>max</th>\n",
       "      <td>11077.000000</td>\n",
       "      <td>77.000000</td>\n",
       "      <td>263.500000</td>\n",
       "      <td>130.000000</td>\n",
       "      <td>0.250000</td>\n",
       "    </tr>\n",
       "  </tbody>\n",
       "</table>\n",
       "</div>"
      ],
      "text/plain": [
       "            OrderId    ProductId    UnitPrice     Quantity     Discount\n",
       "count   2155.000000  2155.000000  2155.000000  2155.000000  2155.000000\n",
       "mean   10659.375870    40.793039    26.218520    23.812993     0.056167\n",
       "std      241.378032    22.159019    29.827418    19.022047     0.083450\n",
       "min    10248.000000     1.000000     2.000000     1.000000     0.000000\n",
       "25%    10451.000000    22.000000    12.000000    10.000000     0.000000\n",
       "50%    10657.000000    41.000000    18.400000    20.000000     0.000000\n",
       "75%    10862.500000    60.000000    32.000000    30.000000     0.100000\n",
       "max    11077.000000    77.000000   263.500000   130.000000     0.250000"
      ]
     },
     "execution_count": 6,
     "metadata": {},
     "output_type": "execute_result"
    }
   ],
   "source": [
    "Order.describe()"
   ]
  },
  {
   "cell_type": "markdown",
   "metadata": {
    "heading_collapsed": true
   },
   "source": [
    "## Q 1) Does Applying a Discount Impact Quanity Sold?"
   ]
  },
  {
   "cell_type": "markdown",
   "metadata": {
    "heading_collapsed": true,
    "hidden": true
   },
   "source": [
    "### Preparing for Hypothesis Test"
   ]
  },
  {
   "cell_type": "code",
   "execution_count": 8,
   "metadata": {
    "hidden": true
   },
   "outputs": [],
   "source": [
    "#separate df into discount and no discount to compare quantity sold in these two groups\n",
    "discount = Order[Order.Discount > 0]['Quantity'] #series, all rows w discount, but only quantity column\n",
    "no_discount = Order[Order.Discount == 0]['Quantity']"
   ]
  },
  {
   "cell_type": "code",
   "execution_count": 9,
   "metadata": {
    "hidden": true
   },
   "outputs": [
    {
     "data": {
      "text/plain": [
       "21.715261958997722"
      ]
     },
     "execution_count": 9,
     "metadata": {},
     "output_type": "execute_result"
    }
   ],
   "source": [
    "#get mean of no discount group for null hypothesis\n",
    "no_discount.mean()"
   ]
  },
  {
   "cell_type": "code",
   "execution_count": 105,
   "metadata": {
    "hidden": true
   },
   "outputs": [
    {
     "name": "stdout",
     "output_type": "stream",
     "text": [
      "The discount group contains 838 observations, having a mean of 27.11 and a standard deviation =  20.759 , with 837 degrees of freedom. The no discount group contains 1317 observations, and has a mean of 21.715 and a standard deviation =  17.507 . The difference between sample and population means is: 5.395\n"
     ]
    }
   ],
   "source": [
    "# No discount mean\n",
    "mu_nodiscount = no_discount.mean()\n",
    "\n",
    "# Disount mean\n",
    "mu_discount = discount.mean()\n",
    "\n",
    "# Sample size (n)\n",
    "n = len(discount)\n",
    "\n",
    "# Degrees of Freedom\n",
    "df = n-1\n",
    "\n",
    "# Sample Standard Deviation (sigma) using Numpy\n",
    "std_discount = np.std(discount)\n",
    "\n",
    "# Difference in means\n",
    "diff = mu_discount - mu_nodiscount\n",
    "\n",
    "\n",
    "# Print the findings\n",
    "print ('The discount group contains', n, 'observations, having a mean of', np.round(mu_discount,3), \n",
    "       \"and a standard deviation = \", np.round(std_discount,3), \n",
    "       \", with\", df, \"degrees of freedom. The no discount group contains\", len(no_discount), \n",
    "       \"observations, and has a mean of\", np.round(mu_nodiscount,3), \"and a standard deviation = \", \n",
    "       np.round(np.std(no_discount,ddof=1),3), \n",
    "       \". The difference between sample and population means is:\", np.round(diff,3))"
   ]
  },
  {
   "cell_type": "code",
   "execution_count": 12,
   "metadata": {
    "hidden": true
   },
   "outputs": [
    {
     "name": "stderr",
     "output_type": "stream",
     "text": [
      "/Users/tmm/anaconda3/envs/learn-env/lib/python3.6/site-packages/scipy/stats/stats.py:1713: FutureWarning: Using a non-tuple sequence for multidimensional indexing is deprecated; use `arr[tuple(seq)]` instead of `arr[seq]`. In the future this will be interpreted as an array index, `arr[np.array(seq)]`, which will result either in an error or a different result.\n",
      "  return np.add.reduce(sorted[indexer] * weights, axis=axis) / sumval\n"
     ]
    },
    {
     "data": {
      "image/png": "[encoded data removed]",
      "text/plain": [
       "<Figure size 864x720 with 1 Axes>"
      ]
     },
     "metadata": {},
     "output_type": "display_data"
    }
   ],
   "source": [
    "#How does the distribution of no discount look overlaid with the distribution of discount?\n",
    "\n",
    "plt.title(\"No Discount vs. Discount\")\n",
    "sns.distplot(no_discount, label='No Discount') \n",
    "sns.distplot(discount, label='Discount')\n",
    "plt.legend()\n",
    "plt.show()"
   ]
  },
  {
   "cell_type": "markdown",
   "metadata": {
    "hidden": true
   },
   "source": [
    "The mean of the discount group is higher than the no discount group, and the distribution of the discount group does appear to be to the right (high quantity) of the no discount group. But is this difference significant?"
   ]
  },
  {
   "cell_type": "markdown",
   "metadata": {
    "heading_collapsed": true,
    "hidden": true
   },
   "source": [
    "### **One Tail Hypothesis Test - Does Discount Matter?**"
   ]
  },
  {
   "cell_type": "markdown",
   "metadata": {
    "hidden": true
   },
   "source": [
    "#### Step 1: Write the null and alternative hypothesis statements\n",
    "\n",
    "$H_{0}$  : There is no relationship between quantity and discount, i.e. mean number sold with a discount <= mean sold without a discount. \n",
    "\n",
    "- mu_discount <= mu_nodiscount  --->  mu_discount <= 21.72\n",
    "\n",
    "$H_{1}$ : There is a relationship between quanity and discount, i.e. mean number sold with a discount > mean sold without a discount. \n",
    "\n",
    "- mu_discount > mu_nodiscount ---> mu_discount > 21.72"
   ]
  },
  {
   "cell_type": "markdown",
   "metadata": {
    "hidden": true
   },
   "source": [
    "#### Step 2: Choose a significance level (`α`)\n",
    "\n",
    "`α` is the probability of rejecting the nully hypothesis when it is true. I will use the standard significance level of `α` = 0.05, meaning that there is a 5% chance risk of concluding that a difference exists when there is no actual difference."
   ]
  },
  {
   "cell_type": "markdown",
   "metadata": {
    "hidden": true
   },
   "source": [
    "#### Step 3: Calculate the t-statistic\n",
    "\n",
    "Formula for one-sample t-test given as:\n",
    "\n",
    " $$t = \\frac{\\bar{x}-\\mu}{\\frac{s}{\\sqrt{n}}}$$\n",
    " \n",
    "> Using the formula given above, calculate the t-value in Python:\n",
    "\n",
    "**`scipy.stats.t.ppf(1-alpha, df)`**\n",
    "\n",
    "**`scipy.stats.ttest_1samp(a, popmean, axis=0, nan_policy='propagate')`**"
   ]
  },
  {
   "cell_type": "code",
   "execution_count": 106,
   "metadata": {
    "hidden": true
   },
   "outputs": [
    {
     "name": "stdout",
     "output_type": "stream",
     "text": [
      "t_critical value =  1.647\n"
     ]
    }
   ],
   "source": [
    "# Calculate critical t value\n",
    "t_crit = np.round(stats.t.ppf(1 - 0.05, df=df),3)\n",
    "print(\"t_critical value = \", t_crit)"
   ]
  },
  {
   "cell_type": "code",
   "execution_count": 108,
   "metadata": {
    "hidden": true
   },
   "outputs": [
    {
     "name": "stdout",
     "output_type": "stream",
     "text": [
      "The t-value for the discount group is 7.52 and the p-value is 1.4308992265460746e-13\n"
     ]
    }
   ],
   "source": [
    "# Calculate t stat and p value\n",
    "results = stats.ttest_1samp(a= discount, popmean= mu_nodiscount)         \n",
    "print (\"The t-value for the discount group is\", round(results[0], 2), \"and the p-value is\", (results[1]))"
   ]
  },
  {
   "cell_type": "code",
   "execution_count": 109,
   "metadata": {
    "hidden": true
   },
   "outputs": [
    {
     "name": "stdout",
     "output_type": "stream",
     "text": [
      "Null hypothesis rejected. Results are statistically significant with t-value = 7.52 and p-value = 0.0 . I conclude with 95% confidence that there is a relationship between discount and quantity sold - larger quantities are sold when a discount is offered.\n"
     ]
    }
   ],
   "source": [
    "if (results[0]>t_crit) and (results[1]<0.05):\n",
    "    print (\"Null hypothesis rejected. Results are statistically significant with t-value =\", \n",
    "           round(results[0], 2), \"and p-value =\", np.round((results[1]), 4),\". I conclude with 95% confidence that there is a relationship between discount and quantity sold - larger quantities are sold when a discount is offered.\")\n",
    "else:\n",
    "    print (\"Null hypothesis is Accepted\")"
   ]
  },
  {
   "cell_type": "markdown",
   "metadata": {
    "heading_collapsed": true,
    "hidden": true
   },
   "source": [
    "### Welch's t-test"
   ]
  },
  {
   "cell_type": "code",
   "execution_count": 103,
   "metadata": {
    "hidden": true
   },
   "outputs": [
    {
     "data": {
      "text/plain": [
       "count    838.000000\n",
       "mean      27.109785\n",
       "std       20.771439\n",
       "min        1.000000\n",
       "25%       12.000000\n",
       "50%       20.000000\n",
       "75%       36.000000\n",
       "max      130.000000\n",
       "Name: Quantity, dtype: float64"
      ]
     },
     "execution_count": 103,
     "metadata": {},
     "output_type": "execute_result"
    }
   ],
   "source": [
    "discount.describe()"
   ]
  },
  {
   "cell_type": "code",
   "execution_count": 104,
   "metadata": {
    "hidden": true
   },
   "outputs": [
    {
     "data": {
      "text/plain": [
       "count    1317.000000\n",
       "mean       21.715262\n",
       "std        17.507493\n",
       "min         1.000000\n",
       "25%        10.000000\n",
       "50%        18.000000\n",
       "75%        30.000000\n",
       "max       130.000000\n",
       "Name: Quantity, dtype: float64"
      ]
     },
     "execution_count": 104,
     "metadata": {},
     "output_type": "execute_result"
    }
   ],
   "source": [
    "no_discount.describe()"
   ]
  },
  {
   "cell_type": "code",
   "execution_count": 110,
   "metadata": {
    "hidden": true
   },
   "outputs": [
    {
     "data": {
      "text/plain": [
       "430.93782787748984"
      ]
     },
     "execution_count": 110,
     "metadata": {},
     "output_type": "execute_result"
    }
   ],
   "source": [
    "np.var(discount)"
   ]
  },
  {
   "cell_type": "code",
   "execution_count": 111,
   "metadata": {
    "hidden": true
   },
   "outputs": [
    {
     "data": {
      "text/plain": [
       "306.2795924332757"
      ]
     },
     "execution_count": 111,
     "metadata": {},
     "output_type": "execute_result"
    }
   ],
   "source": [
    "np.var(no_discount)"
   ]
  },
  {
   "cell_type": "markdown",
   "metadata": {
    "hidden": true
   },
   "source": [
    "The discount and no discount groups are not the same size, so it is more conservation to use the welch's t test."
   ]
  },
  {
   "cell_type": "code",
   "execution_count": 16,
   "metadata": {
    "hidden": true
   },
   "outputs": [
    {
     "data": {
      "text/plain": [
       "6.239069142123973"
      ]
     },
     "execution_count": 16,
     "metadata": {},
     "output_type": "execute_result"
    }
   ],
   "source": [
    "def welch_t(a, b):\n",
    "    \n",
    "    \"\"\" Calculate Welch's t statistic for two samples. \"\"\"\n",
    "\n",
    "    numerator = a.mean() - b.mean()\n",
    "    \n",
    "    # “ddof = Delta Degrees of Freedom”: the divisor used in the calculation is N - ddof, \n",
    "    #  where N represents the number of elements. By default ddof is zero.\n",
    "    \n",
    "    denominator = np.sqrt(a.var(ddof=1)/a.size + b.var(ddof=1)/b.size)\n",
    "    \n",
    "    return np.abs(numerator/denominator)\n",
    "\n",
    "welch_t(no_discount, discount)"
   ]
  },
  {
   "cell_type": "code",
   "execution_count": 17,
   "metadata": {
    "hidden": true
   },
   "outputs": [
    {
     "data": {
      "text/plain": [
       "1561.7678231942148"
      ]
     },
     "execution_count": 17,
     "metadata": {},
     "output_type": "execute_result"
    }
   ],
   "source": [
    "def welch_df(a, b):\n",
    "    \n",
    "    \"\"\" Calculate the effective degrees of freedom for two samples. \"\"\"\n",
    "    \n",
    "    s1 = a.var(ddof=1) \n",
    "    s2 = b.var(ddof=1)\n",
    "    n1 = a.size\n",
    "    n2 = b.size\n",
    "    \n",
    "    numerator = (s1/n1 + s2/n2)**2\n",
    "    denominator = (s1/ n1)**2/(n1 - 1) + (s2/ n2)**2/(n2 - 1)\n",
    "    \n",
    "    return numerator/denominator\n",
    "\n",
    "welch_df(no_discount, discount)\n",
    "# 17.673079085111"
   ]
  },
  {
   "cell_type": "code",
   "execution_count": 113,
   "metadata": {
    "hidden": true,
    "scrolled": true
   },
   "outputs": [
    {
     "name": "stdout",
     "output_type": "stream",
     "text": [
      "t-stat = 6.239069142123973 degrees of freedome = 1561.7678231942148\n"
     ]
    }
   ],
   "source": [
    "t = welch_t(no_discount, discount)\n",
    "df = welch_df(no_discount, discount)\n",
    "print(\"t-stat =\",t, \"degrees of freedome =\",df)"
   ]
  },
  {
   "cell_type": "code",
   "execution_count": 19,
   "metadata": {
    "hidden": true
   },
   "outputs": [
    {
     "name": "stdout",
     "output_type": "stream",
     "text": [
      "2.8282065578366655e-10\n"
     ]
    }
   ],
   "source": [
    "p = 1 - stats.t.cdf(t, df)\n",
    "print(p)"
   ]
  },
  {
   "cell_type": "code",
   "execution_count": 20,
   "metadata": {
    "hidden": true
   },
   "outputs": [],
   "source": [
    "def p_value(a, b, two_sided=False):\n",
    "\n",
    "    t = welch_t(a, b)\n",
    "    df = welch_df(a, b)\n",
    "    \n",
    "    p = 1-stats.t.cdf(np.abs(t), df)\n",
    "    \n",
    "    if two_sided:\n",
    "        return 2*p\n",
    "    else:\n",
    "        return p"
   ]
  },
  {
   "cell_type": "code",
   "execution_count": 114,
   "metadata": {
    "hidden": true
   },
   "outputs": [
    {
     "name": "stdout",
     "output_type": "stream",
     "text": [
      "p-value = 2.8282065578366655e-10\n"
     ]
    }
   ],
   "source": [
    "welch_result = p_value(no_discount, discount)\n",
    "print(\"p-value =\",welch_result)"
   ]
  },
  {
   "cell_type": "code",
   "execution_count": 115,
   "metadata": {
    "hidden": true
   },
   "outputs": [
    {
     "name": "stdout",
     "output_type": "stream",
     "text": [
      "Welch's t-test: Null hypothesis rejected. Results are statistically significant with t-value = 6.239 and p-value = 2.8282065578366655e-10 . I conclude with 95% confidence that there is a relationship between discount and quantity sold - larger quantities are sold when a discount is offered.\n"
     ]
    }
   ],
   "source": [
    "if  (welch_result < 0.05):\n",
    "    print (\"Welch's t-test: Null hypothesis rejected. Results are statistically significant with t-value =\", \n",
    "           round(t, 3), \"and p-value =\", welch_result,\". I conclude with 95% confidence that there is a relationship between discount and quantity sold - larger quantities are sold when a discount is offered.\")\n",
    "else:\n",
    "    print (\"Null hypothesis is Accepted\")"
   ]
  },
  {
   "cell_type": "markdown",
   "metadata": {
    "heading_collapsed": true,
    "hidden": true
   },
   "source": [
    "### Cohen's $d$"
   ]
  },
  {
   "cell_type": "markdown",
   "metadata": {
    "hidden": true
   },
   "source": [
    "Cohen’s D is a common ways to measure effect size.  Cohen's d is typically used to represent the magnitude of differences between two (or more) groups on a given variable, with larger values representing a greater differentiation between the two groups.\n",
    "\n",
    "The basic formula to calculate Cohen’s $d$ is:\n",
    "\n",
    "> ** $d$  = effect size (difference of means) / pooled standard deviation **\n",
    "\n",
    "The denominator is the **standardiser**, and it is important to select the most appropriate one for a given dataset. The pooled standard deviation is the average spread of all data points around their group mean (not the overall mean). "
   ]
  },
  {
   "cell_type": "code",
   "execution_count": 23,
   "metadata": {
    "hidden": true
   },
   "outputs": [],
   "source": [
    "def Cohen_d(group1, group2):\n",
    "\n",
    "    # Compute Cohen's d.\n",
    "\n",
    "    # group1: Series or NumPy array\n",
    "    # group2: Series or NumPy array\n",
    "\n",
    "    # returns a floating point number \n",
    "\n",
    "    diff = group1.mean() - group2.mean()\n",
    "\n",
    "    n1, n2 = len(group1), len(group2)\n",
    "    var1 = group1.var()\n",
    "    var2 = group2.var()\n",
    "\n",
    "    # Calculate the pooled threshold as shown earlier\n",
    "    pooled_var = (n1 * var1 + n2 * var2) / (n1 + n2)\n",
    "    \n",
    "    # Calculate Cohen's d statistic\n",
    "    d = diff / np.sqrt(pooled_var)\n",
    "    \n",
    "    return d"
   ]
  },
  {
   "cell_type": "code",
   "execution_count": 118,
   "metadata": {
    "hidden": true
   },
   "outputs": [
    {
     "name": "stdout",
     "output_type": "stream",
     "text": [
      "Cohen's d comparing discount and no discount group = 0.2862724481729282\n"
     ]
    }
   ],
   "source": [
    "print(\"Cohen's d comparing discount and no discount group =\", Cohen_d(discount, no_discount))"
   ]
  },
  {
   "cell_type": "markdown",
   "metadata": {
    "hidden": true
   },
   "source": [
    "#### Interpreting $d$\n",
    "Interpreting the result of Cohen’s D means, use these general “rule of thumb” guidelines (which Cohen said should be used cautiously):\n",
    "\n",
    ">**Small effect = 0.2**\n",
    "\n",
    ">**Medium Effect = 0.5**\n",
    "\n",
    ">**Large Effect = 0.8**"
   ]
  },
  {
   "cell_type": "markdown",
   "metadata": {
    "heading_collapsed": true,
    "hidden": true
   },
   "source": [
    "### Conclusion"
   ]
  },
  {
   "cell_type": "markdown",
   "metadata": {
    "hidden": true
   },
   "source": [
    "Using an alpha of 0.05, I conclude with 95% confidence that discount does matter in terms of quantity sold. Higher quantities are sold when a discount is applied. While the difference between quantity sold with a discount vs. without a discount is statistically significant, the Cohen's $d$ comparing quantity sold at a discount vs. no discount = 0.286, suggests that the effect of a discount is small."
   ]
  },
  {
   "cell_type": "markdown",
   "metadata": {
    "heading_collapsed": true
   },
   "source": [
    "## Q 2) Does Level of Discount Matter in Terms of Quantity Sold?"
   ]
  },
  {
   "cell_type": "markdown",
   "metadata": {
    "heading_collapsed": true,
    "hidden": true
   },
   "source": [
    "### Preparing for Hypothesis Test"
   ]
  },
  {
   "cell_type": "code",
   "execution_count": 7,
   "metadata": {
    "hidden": true
   },
   "outputs": [
    {
     "data": {
      "text/plain": [
       "array([0.  , 0.15, 0.05, 0.2 , 0.25, 0.1 , 0.02, 0.03, 0.04, 0.06, 0.01])"
      ]
     },
     "execution_count": 7,
     "metadata": {},
     "output_type": "execute_result"
    }
   ],
   "source": [
    "#what levels of discount are possible?\n",
    "Order.Discount.unique()"
   ]
  },
  {
   "cell_type": "code",
   "execution_count": 100,
   "metadata": {
    "hidden": true
   },
   "outputs": [
    {
     "data": {
      "text/plain": [
       "0.00    1317\n",
       "0.05     185\n",
       "0.10     173\n",
       "0.20     161\n",
       "0.15     157\n",
       "0.25     154\n",
       "0.03       3\n",
       "0.02       2\n",
       "0.01       1\n",
       "0.04       1\n",
       "0.06       1\n",
       "Name: Discount, dtype: int64"
      ]
     },
     "execution_count": 100,
     "metadata": {},
     "output_type": "execute_result"
    }
   ],
   "source": [
    "#how many of each level of discount do we have?\n",
    "Order.Discount.value_counts()"
   ]
  },
  {
   "cell_type": "markdown",
   "metadata": {
    "hidden": true
   },
   "source": [
    "Possible discounts are: 0% (no discount), 1%, 2%, 3%, 4%, 5%, 6%, 10%, 15%, 20%, 25% \n",
    "\n",
    "There are less than three observations for discounts 1-4% and 6%, so our important discount levels are:\n",
    "\n",
    "- No discount\n",
    "- 5%\n",
    "- 10%\n",
    "- 15%\n",
    "- 20%\n",
    "- 25%"
   ]
  },
  {
   "cell_type": "code",
   "execution_count": 123,
   "metadata": {
    "hidden": true,
    "scrolled": true
   },
   "outputs": [
    {
     "data": {
      "text/html": [
       "<div>\n",
       "<style scoped>\n",
       "    .dataframe tbody tr th:only-of-type {\n",
       "        vertical-align: middle;\n",
       "    }\n",
       "\n",
       "    .dataframe tbody tr th {\n",
       "        vertical-align: top;\n",
       "    }\n",
       "\n",
       "    .dataframe thead th {\n",
       "        text-align: right;\n",
       "    }\n",
       "</style>\n",
       "<table border=\"1\" class=\"dataframe\">\n",
       "  <thead>\n",
       "    <tr style=\"text-align: right;\">\n",
       "      <th></th>\n",
       "      <th>Id</th>\n",
       "      <th>OrderId</th>\n",
       "      <th>ProductId</th>\n",
       "      <th>UnitPrice</th>\n",
       "      <th>Quantity</th>\n",
       "      <th>Discount</th>\n",
       "    </tr>\n",
       "  </thead>\n",
       "  <tbody>\n",
       "    <tr>\n",
       "      <th>6</th>\n",
       "      <td>10250/51</td>\n",
       "      <td>10250</td>\n",
       "      <td>51</td>\n",
       "      <td>42.4</td>\n",
       "      <td>35</td>\n",
       "      <td>0.15</td>\n",
       "    </tr>\n",
       "    <tr>\n",
       "      <th>7</th>\n",
       "      <td>10250/65</td>\n",
       "      <td>10250</td>\n",
       "      <td>65</td>\n",
       "      <td>16.8</td>\n",
       "      <td>15</td>\n",
       "      <td>0.15</td>\n",
       "    </tr>\n",
       "    <tr>\n",
       "      <th>8</th>\n",
       "      <td>10251/22</td>\n",
       "      <td>10251</td>\n",
       "      <td>22</td>\n",
       "      <td>16.8</td>\n",
       "      <td>6</td>\n",
       "      <td>0.05</td>\n",
       "    </tr>\n",
       "    <tr>\n",
       "      <th>9</th>\n",
       "      <td>10251/57</td>\n",
       "      <td>10251</td>\n",
       "      <td>57</td>\n",
       "      <td>15.6</td>\n",
       "      <td>15</td>\n",
       "      <td>0.05</td>\n",
       "    </tr>\n",
       "    <tr>\n",
       "      <th>11</th>\n",
       "      <td>10252/20</td>\n",
       "      <td>10252</td>\n",
       "      <td>20</td>\n",
       "      <td>64.8</td>\n",
       "      <td>40</td>\n",
       "      <td>0.05</td>\n",
       "    </tr>\n",
       "  </tbody>\n",
       "</table>\n",
       "</div>"
      ],
      "text/plain": [
       "          Id  OrderId  ProductId  UnitPrice  Quantity  Discount\n",
       "6   10250/51    10250         51       42.4        35      0.15\n",
       "7   10250/65    10250         65       16.8        15      0.15\n",
       "8   10251/22    10251         22       16.8         6      0.05\n",
       "9   10251/57    10251         57       15.6        15      0.05\n",
       "11  10252/20    10252         20       64.8        40      0.05"
      ]
     },
     "execution_count": 123,
     "metadata": {},
     "output_type": "execute_result"
    }
   ],
   "source": [
    "#create a df that only has orders where a discount of 5% or more was applied to use for an ANOVA test to compare levels of discount\n",
    "df_discount5 = Order[Order.Discount > .04]\n",
    "df_discount5.head()"
   ]
  },
  {
   "cell_type": "markdown",
   "metadata": {
    "heading_collapsed": true,
    "hidden": true
   },
   "source": [
    "### Analysis of Variance (ANOVA) - Is There a Difference Between the Levels of Discount?"
   ]
  },
  {
   "cell_type": "markdown",
   "metadata": {
    "hidden": true
   },
   "source": [
    "Is there a difference between in quantity sold at different levels of discount?\n",
    "\n",
    "$H_{0}$  : There is no relationship between quantity and level of discount, i.e. mean number sold is the same at each level\n",
    "\n",
    "- mu_discount5 = mu_discount6 = mu_discount10 = mu_discount15 = mu_discount20 = mu_discount25\n",
    "\n",
    "$H_{1}$ : There is a relationship between quanity and level of discount, i.e. mean number sold differ by level of discount\n",
    "    \n",
    "- mu_discount5 != mu_discount6 != mu_discount10 != mu_discount15 != mu_discount20 != mu_discount25"
   ]
  },
  {
   "cell_type": "code",
   "execution_count": 30,
   "metadata": {
    "hidden": true
   },
   "outputs": [
    {
     "name": "stdout",
     "output_type": "stream",
     "text": [
      "                    sum_sq     df         F   PR(>F)\n",
      "C(Discount)    1801.580295    5.0  0.837901  0.52289\n",
      "Residual     354768.342690  825.0       NaN      NaN\n"
     ]
    }
   ],
   "source": [
    "#is there a difference between all different discounts?\n",
    "import statsmodels.api as sm\n",
    "from statsmodels.formula.api import ols\n",
    "\n",
    "formula = 'Quantity ~ C(Discount)'\n",
    "lm = ols(formula, df_discount5).fit()\n",
    "table = sm.stats.anova_lm(lm, typ=2)\n",
    "print(table)"
   ]
  },
  {
   "cell_type": "markdown",
   "metadata": {
    "heading_collapsed": true,
    "hidden": true
   },
   "source": [
    "### ANOVA Conclusion"
   ]
  },
  {
   "cell_type": "markdown",
   "metadata": {
    "hidden": true
   },
   "source": [
    "- PR(>F) > alpha\n",
    "- 0.523 > 0.05\n",
    "\n",
    "With 95% confidence I conclude that there is no significant difference between the quantity of products sold at different discount levels. While applying a discount does significantly increase the number of products sold, the level of discount applied doesn't matter."
   ]
  },
  {
   "cell_type": "code",
   "execution_count": 53,
   "metadata": {
    "hidden": true
   },
   "outputs": [
    {
     "name": "stderr",
     "output_type": "stream",
     "text": [
      "/Users/tmm/anaconda3/envs/learn-env/lib/python3.6/site-packages/scipy/stats/stats.py:1713: FutureWarning: Using a non-tuple sequence for multidimensional indexing is deprecated; use `arr[tuple(seq)]` instead of `arr[seq]`. In the future this will be interpreted as an array index, `arr[np.array(seq)]`, which will result either in an error or a different result.\n",
      "  return np.add.reduce(sorted[indexer] * weights, axis=axis) / sumval\n"
     ]
    },
    {
     "data": {
      "image/png": "[encoded data removed]",
      "text/plain": [
       "<Figure size 864x720 with 1 Axes>"
      ]
     },
     "metadata": {},
     "output_type": "display_data"
    }
   ],
   "source": [
    "ax = sns.violinplot(x=\"Discount\", y=\"Quantity\",\n",
    "                    data=df_discount5, palette=\"muted\", split=True)"
   ]
  },
  {
   "cell_type": "markdown",
   "metadata": {
    "heading_collapsed": true
   },
   "source": [
    "## Q 3) Which Price Level is Most Impacted by Discounts?"
   ]
  },
  {
   "cell_type": "markdown",
   "metadata": {
    "hidden": true
   },
   "source": [
    "Now that I know that discount increases quanity sold, but that the level of discount doesn't matter, I want to know how discount impacts products priced at different price points. I would hypothesize that higher priced products would be more impacted by applying a discount."
   ]
  },
  {
   "cell_type": "markdown",
   "metadata": {
    "heading_collapsed": true,
    "hidden": true
   },
   "source": [
    "### Preparing Data for Hypothesis Test"
   ]
  },
  {
   "cell_type": "code",
   "execution_count": 54,
   "metadata": {
    "hidden": true
   },
   "outputs": [
    {
     "data": {
      "text/plain": [
       "count    2155.000000\n",
       "mean       26.218520\n",
       "std        29.827418\n",
       "min         2.000000\n",
       "25%        12.000000\n",
       "50%        18.400000\n",
       "75%        32.000000\n",
       "max       263.500000\n",
       "Name: UnitPrice, dtype: float64"
      ]
     },
     "execution_count": 54,
     "metadata": {},
     "output_type": "execute_result"
    }
   ],
   "source": [
    "#how is UnitPrice distributed?\n",
    "Order.UnitPrice.describe()"
   ]
  },
  {
   "cell_type": "code",
   "execution_count": 32,
   "metadata": {
    "hidden": true
   },
   "outputs": [
    {
     "name": "stderr",
     "output_type": "stream",
     "text": [
      "/Users/tmm/anaconda3/envs/learn-env/lib/python3.6/site-packages/scipy/stats/stats.py:1713: FutureWarning: Using a non-tuple sequence for multidimensional indexing is deprecated; use `arr[tuple(seq)]` instead of `arr[seq]`. In the future this will be interpreted as an array index, `arr[np.array(seq)]`, which will result either in an error or a different result.\n",
      "  return np.add.reduce(sorted[indexer] * weights, axis=axis) / sumval\n"
     ]
    },
    {
     "data": {
      "text/plain": [
       "<matplotlib.axes._subplots.AxesSubplot at 0x1c184d8ac8>"
      ]
     },
     "execution_count": 32,
     "metadata": {},
     "output_type": "execute_result"
    },
    {
     "data": {
      "image/png": "[encoded data removed]",
      "text/plain": [
       "<Figure size 864x720 with 1 Axes>"
      ]
     },
     "metadata": {},
     "output_type": "display_data"
    }
   ],
   "source": [
    "sns.set(color_codes=True)\n",
    "sns.set(rc={'figure.figsize':(12,10)})\n",
    "sns.distplot(Order.UnitPrice)"
   ]
  },
  {
   "cell_type": "code",
   "execution_count": 55,
   "metadata": {
    "hidden": true,
    "scrolled": false
   },
   "outputs": [
    {
     "name": "stderr",
     "output_type": "stream",
     "text": [
      "/Users/tmm/anaconda3/envs/learn-env/lib/python3.6/site-packages/scipy/stats/stats.py:1713: FutureWarning: Using a non-tuple sequence for multidimensional indexing is deprecated; use `arr[tuple(seq)]` instead of `arr[seq]`. In the future this will be interpreted as an array index, `arr[np.array(seq)]`, which will result either in an error or a different result.\n",
      "  return np.add.reduce(sorted[indexer] * weights, axis=axis) / sumval\n"
     ]
    },
    {
     "data": {
      "text/plain": [
       "<matplotlib.axes._subplots.AxesSubplot at 0x1a173a8940>"
      ]
     },
     "execution_count": 55,
     "metadata": {},
     "output_type": "execute_result"
    },
    {
     "data": {
      "image/png": "[encoded data removed]",
      "text/plain": [
       "<Figure size 864x720 with 1 Axes>"
      ]
     },
     "metadata": {},
     "output_type": "display_data"
    }
   ],
   "source": [
    "sns.set(style=\"whitegrid\")\n",
    "sns.violinplot(x=Order[\"UnitPrice\"])"
   ]
  },
  {
   "cell_type": "code",
   "execution_count": 56,
   "metadata": {
    "hidden": true
   },
   "outputs": [
    {
     "data": {
      "text/plain": [
       "<matplotlib.axes._subplots.AxesSubplot at 0x1143db860>"
      ]
     },
     "execution_count": 56,
     "metadata": {},
     "output_type": "execute_result"
    },
    {
     "data": {
      "image/png": "[encoded data removed]",
      "text/plain": [
       "<Figure size 864x720 with 1 Axes>"
      ]
     },
     "metadata": {},
     "output_type": "display_data"
    }
   ],
   "source": [
    "sns.set(style=\"whitegrid\")\n",
    "sns.boxplot(x=Order[\"UnitPrice\"])"
   ]
  },
  {
   "cell_type": "markdown",
   "metadata": {
    "hidden": true
   },
   "source": [
    "I will divide UnitPrice into 4 different groups based on UnitPrice's quartiles:\n",
    "\n",
    "   - Low Price Group: UnitPrice <= $12.00\n",
    "   \n",
    "   - Mid-Low Price Group: $12.00 < UnitPrice <= $18.40\n",
    "    \n",
    "   - Mid-High Price Group: $18.40 < UnitPrice <= $32.00\n",
    "   \n",
    "   - High Price Group: UnitPrice > $32.00\n"
   ]
  },
  {
   "cell_type": "code",
   "execution_count": 124,
   "metadata": {
    "hidden": true
   },
   "outputs": [
    {
     "data": {
      "text/html": [
       "<div>\n",
       "<style scoped>\n",
       "    .dataframe tbody tr th:only-of-type {\n",
       "        vertical-align: middle;\n",
       "    }\n",
       "\n",
       "    .dataframe tbody tr th {\n",
       "        vertical-align: top;\n",
       "    }\n",
       "\n",
       "    .dataframe thead th {\n",
       "        text-align: right;\n",
       "    }\n",
       "</style>\n",
       "<table border=\"1\" class=\"dataframe\">\n",
       "  <thead>\n",
       "    <tr style=\"text-align: right;\">\n",
       "      <th></th>\n",
       "      <th>Id</th>\n",
       "      <th>OrderId</th>\n",
       "      <th>ProductId</th>\n",
       "      <th>UnitPrice</th>\n",
       "      <th>Quantity</th>\n",
       "      <th>Discount</th>\n",
       "    </tr>\n",
       "  </thead>\n",
       "  <tbody>\n",
       "    <tr>\n",
       "      <th>0</th>\n",
       "      <td>10248/42</td>\n",
       "      <td>10248</td>\n",
       "      <td>42</td>\n",
       "      <td>9.8</td>\n",
       "      <td>10</td>\n",
       "      <td>0.00</td>\n",
       "    </tr>\n",
       "    <tr>\n",
       "      <th>1</th>\n",
       "      <td>10250/41</td>\n",
       "      <td>10250</td>\n",
       "      <td>41</td>\n",
       "      <td>7.7</td>\n",
       "      <td>10</td>\n",
       "      <td>0.00</td>\n",
       "    </tr>\n",
       "    <tr>\n",
       "      <th>2</th>\n",
       "      <td>10252/33</td>\n",
       "      <td>10252</td>\n",
       "      <td>33</td>\n",
       "      <td>2.0</td>\n",
       "      <td>25</td>\n",
       "      <td>0.05</td>\n",
       "    </tr>\n",
       "    <tr>\n",
       "      <th>3</th>\n",
       "      <td>10253/31</td>\n",
       "      <td>10253</td>\n",
       "      <td>31</td>\n",
       "      <td>10.0</td>\n",
       "      <td>20</td>\n",
       "      <td>0.00</td>\n",
       "    </tr>\n",
       "    <tr>\n",
       "      <th>4</th>\n",
       "      <td>10254/24</td>\n",
       "      <td>10254</td>\n",
       "      <td>24</td>\n",
       "      <td>3.6</td>\n",
       "      <td>15</td>\n",
       "      <td>0.15</td>\n",
       "    </tr>\n",
       "  </tbody>\n",
       "</table>\n",
       "</div>"
      ],
      "text/plain": [
       "         Id  OrderId  ProductId  UnitPrice  Quantity  Discount\n",
       "0  10248/42    10248         42        9.8        10      0.00\n",
       "1  10250/41    10250         41        7.7        10      0.00\n",
       "2  10252/33    10252         33        2.0        25      0.05\n",
       "3  10253/31    10253         31       10.0        20      0.00\n",
       "4  10254/24    10254         24        3.6        15      0.15"
      ]
     },
     "execution_count": 124,
     "metadata": {},
     "output_type": "execute_result"
    }
   ],
   "source": [
    "#create a dataframe for bottom quartile of UnitPrice\n",
    "cur.execute('''SELECT * \n",
    "               FROM OrderDetail\n",
    "               WHERE UnitPrice <= 12;''')\n",
    "Order_lowprice = pd.DataFrame(cur.fetchall())\n",
    "Order_lowprice.columns = [x[0] for x in cur.description]\n",
    "Order_lowprice.head()"
   ]
  },
  {
   "cell_type": "code",
   "execution_count": 58,
   "metadata": {
    "hidden": true
   },
   "outputs": [
    {
     "data": {
      "text/html": [
       "<div>\n",
       "<style scoped>\n",
       "    .dataframe tbody tr th:only-of-type {\n",
       "        vertical-align: middle;\n",
       "    }\n",
       "\n",
       "    .dataframe tbody tr th {\n",
       "        vertical-align: top;\n",
       "    }\n",
       "\n",
       "    .dataframe thead th {\n",
       "        text-align: right;\n",
       "    }\n",
       "</style>\n",
       "<table border=\"1\" class=\"dataframe\">\n",
       "  <thead>\n",
       "    <tr style=\"text-align: right;\">\n",
       "      <th></th>\n",
       "      <th>OrderId</th>\n",
       "      <th>ProductId</th>\n",
       "      <th>UnitPrice</th>\n",
       "      <th>Quantity</th>\n",
       "      <th>Discount</th>\n",
       "    </tr>\n",
       "  </thead>\n",
       "  <tbody>\n",
       "    <tr>\n",
       "      <th>count</th>\n",
       "      <td>549.000000</td>\n",
       "      <td>549.000000</td>\n",
       "      <td>549.000000</td>\n",
       "      <td>549.000000</td>\n",
       "      <td>549.000000</td>\n",
       "    </tr>\n",
       "    <tr>\n",
       "      <th>mean</th>\n",
       "      <td>10626.185792</td>\n",
       "      <td>40.051002</td>\n",
       "      <td>7.910018</td>\n",
       "      <td>23.040073</td>\n",
       "      <td>0.053862</td>\n",
       "    </tr>\n",
       "    <tr>\n",
       "      <th>std</th>\n",
       "      <td>247.001312</td>\n",
       "      <td>20.384738</td>\n",
       "      <td>2.523739</td>\n",
       "      <td>18.710097</td>\n",
       "      <td>0.081391</td>\n",
       "    </tr>\n",
       "    <tr>\n",
       "      <th>min</th>\n",
       "      <td>10248.000000</td>\n",
       "      <td>3.000000</td>\n",
       "      <td>2.000000</td>\n",
       "      <td>1.000000</td>\n",
       "      <td>0.000000</td>\n",
       "    </tr>\n",
       "    <tr>\n",
       "      <th>25%</th>\n",
       "      <td>10410.000000</td>\n",
       "      <td>23.000000</td>\n",
       "      <td>6.000000</td>\n",
       "      <td>10.000000</td>\n",
       "      <td>0.000000</td>\n",
       "    </tr>\n",
       "    <tr>\n",
       "      <th>50%</th>\n",
       "      <td>10591.000000</td>\n",
       "      <td>41.000000</td>\n",
       "      <td>8.000000</td>\n",
       "      <td>20.000000</td>\n",
       "      <td>0.000000</td>\n",
       "    </tr>\n",
       "    <tr>\n",
       "      <th>75%</th>\n",
       "      <td>10847.000000</td>\n",
       "      <td>54.000000</td>\n",
       "      <td>10.000000</td>\n",
       "      <td>30.000000</td>\n",
       "      <td>0.100000</td>\n",
       "    </tr>\n",
       "    <tr>\n",
       "      <th>max</th>\n",
       "      <td>11077.000000</td>\n",
       "      <td>77.000000</td>\n",
       "      <td>12.000000</td>\n",
       "      <td>120.000000</td>\n",
       "      <td>0.250000</td>\n",
       "    </tr>\n",
       "  </tbody>\n",
       "</table>\n",
       "</div>"
      ],
      "text/plain": [
       "            OrderId   ProductId   UnitPrice    Quantity    Discount\n",
       "count    549.000000  549.000000  549.000000  549.000000  549.000000\n",
       "mean   10626.185792   40.051002    7.910018   23.040073    0.053862\n",
       "std      247.001312   20.384738    2.523739   18.710097    0.081391\n",
       "min    10248.000000    3.000000    2.000000    1.000000    0.000000\n",
       "25%    10410.000000   23.000000    6.000000   10.000000    0.000000\n",
       "50%    10591.000000   41.000000    8.000000   20.000000    0.000000\n",
       "75%    10847.000000   54.000000   10.000000   30.000000    0.100000\n",
       "max    11077.000000   77.000000   12.000000  120.000000    0.250000"
      ]
     },
     "execution_count": 58,
     "metadata": {},
     "output_type": "execute_result"
    }
   ],
   "source": [
    "Order_lowprice.describe()"
   ]
  },
  {
   "cell_type": "code",
   "execution_count": 125,
   "metadata": {
    "hidden": true
   },
   "outputs": [
    {
     "data": {
      "text/html": [
       "<div>\n",
       "<style scoped>\n",
       "    .dataframe tbody tr th:only-of-type {\n",
       "        vertical-align: middle;\n",
       "    }\n",
       "\n",
       "    .dataframe tbody tr th {\n",
       "        vertical-align: top;\n",
       "    }\n",
       "\n",
       "    .dataframe thead th {\n",
       "        text-align: right;\n",
       "    }\n",
       "</style>\n",
       "<table border=\"1\" class=\"dataframe\">\n",
       "  <thead>\n",
       "    <tr style=\"text-align: right;\">\n",
       "      <th></th>\n",
       "      <th>Id</th>\n",
       "      <th>OrderId</th>\n",
       "      <th>ProductId</th>\n",
       "      <th>UnitPrice</th>\n",
       "      <th>Quantity</th>\n",
       "      <th>Discount</th>\n",
       "    </tr>\n",
       "  </thead>\n",
       "  <tbody>\n",
       "    <tr>\n",
       "      <th>0</th>\n",
       "      <td>10248/11</td>\n",
       "      <td>10248</td>\n",
       "      <td>11</td>\n",
       "      <td>14.0</td>\n",
       "      <td>12</td>\n",
       "      <td>0.00</td>\n",
       "    </tr>\n",
       "    <tr>\n",
       "      <th>1</th>\n",
       "      <td>10250/65</td>\n",
       "      <td>10250</td>\n",
       "      <td>65</td>\n",
       "      <td>16.8</td>\n",
       "      <td>15</td>\n",
       "      <td>0.15</td>\n",
       "    </tr>\n",
       "    <tr>\n",
       "      <th>2</th>\n",
       "      <td>10251/22</td>\n",
       "      <td>10251</td>\n",
       "      <td>22</td>\n",
       "      <td>16.8</td>\n",
       "      <td>6</td>\n",
       "      <td>0.05</td>\n",
       "    </tr>\n",
       "    <tr>\n",
       "      <th>3</th>\n",
       "      <td>10251/57</td>\n",
       "      <td>10251</td>\n",
       "      <td>57</td>\n",
       "      <td>15.6</td>\n",
       "      <td>15</td>\n",
       "      <td>0.05</td>\n",
       "    </tr>\n",
       "    <tr>\n",
       "      <th>4</th>\n",
       "      <td>10251/65</td>\n",
       "      <td>10251</td>\n",
       "      <td>65</td>\n",
       "      <td>16.8</td>\n",
       "      <td>20</td>\n",
       "      <td>0.00</td>\n",
       "    </tr>\n",
       "  </tbody>\n",
       "</table>\n",
       "</div>"
      ],
      "text/plain": [
       "         Id  OrderId  ProductId  UnitPrice  Quantity  Discount\n",
       "0  10248/11    10248         11       14.0        12      0.00\n",
       "1  10250/65    10250         65       16.8        15      0.15\n",
       "2  10251/22    10251         22       16.8         6      0.05\n",
       "3  10251/57    10251         57       15.6        15      0.05\n",
       "4  10251/65    10251         65       16.8        20      0.00"
      ]
     },
     "execution_count": 125,
     "metadata": {},
     "output_type": "execute_result"
    }
   ],
   "source": [
    "#create a dataframe for second quartile of UnitPrice\n",
    "cur.execute('''SELECT * \n",
    "               FROM OrderDetail\n",
    "               WHERE UnitPrice > 12 AND UnitPrice <= 18.4;''')\n",
    "Order_midlowprice = pd.DataFrame(cur.fetchall())\n",
    "Order_midlowprice.columns = [x[0] for x in cur.description]\n",
    "Order_midlowprice.head()"
   ]
  },
  {
   "cell_type": "code",
   "execution_count": 60,
   "metadata": {
    "hidden": true
   },
   "outputs": [
    {
     "data": {
      "text/html": [
       "<div>\n",
       "<style scoped>\n",
       "    .dataframe tbody tr th:only-of-type {\n",
       "        vertical-align: middle;\n",
       "    }\n",
       "\n",
       "    .dataframe tbody tr th {\n",
       "        vertical-align: top;\n",
       "    }\n",
       "\n",
       "    .dataframe thead th {\n",
       "        text-align: right;\n",
       "    }\n",
       "</style>\n",
       "<table border=\"1\" class=\"dataframe\">\n",
       "  <thead>\n",
       "    <tr style=\"text-align: right;\">\n",
       "      <th></th>\n",
       "      <th>OrderId</th>\n",
       "      <th>ProductId</th>\n",
       "      <th>UnitPrice</th>\n",
       "      <th>Quantity</th>\n",
       "      <th>Discount</th>\n",
       "    </tr>\n",
       "  </thead>\n",
       "  <tbody>\n",
       "    <tr>\n",
       "      <th>count</th>\n",
       "      <td>542.000000</td>\n",
       "      <td>542.000000</td>\n",
       "      <td>542.000000</td>\n",
       "      <td>542.000000</td>\n",
       "      <td>542.000000</td>\n",
       "    </tr>\n",
       "    <tr>\n",
       "      <th>mean</th>\n",
       "      <td>10645.450185</td>\n",
       "      <td>42.516605</td>\n",
       "      <td>15.518081</td>\n",
       "      <td>24.476015</td>\n",
       "      <td>0.059668</td>\n",
       "    </tr>\n",
       "    <tr>\n",
       "      <th>std</th>\n",
       "      <td>241.471506</td>\n",
       "      <td>24.138286</td>\n",
       "      <td>2.001916</td>\n",
       "      <td>18.737864</td>\n",
       "      <td>0.084154</td>\n",
       "    </tr>\n",
       "    <tr>\n",
       "      <th>min</th>\n",
       "      <td>10248.000000</td>\n",
       "      <td>1.000000</td>\n",
       "      <td>12.400000</td>\n",
       "      <td>1.000000</td>\n",
       "      <td>0.000000</td>\n",
       "    </tr>\n",
       "    <tr>\n",
       "      <th>25%</th>\n",
       "      <td>10439.250000</td>\n",
       "      <td>26.500000</td>\n",
       "      <td>14.000000</td>\n",
       "      <td>10.000000</td>\n",
       "      <td>0.000000</td>\n",
       "    </tr>\n",
       "    <tr>\n",
       "      <th>50%</th>\n",
       "      <td>10646.000000</td>\n",
       "      <td>40.000000</td>\n",
       "      <td>15.200000</td>\n",
       "      <td>20.000000</td>\n",
       "      <td>0.000000</td>\n",
       "    </tr>\n",
       "    <tr>\n",
       "      <th>75%</th>\n",
       "      <td>10845.000000</td>\n",
       "      <td>68.000000</td>\n",
       "      <td>17.562500</td>\n",
       "      <td>34.500000</td>\n",
       "      <td>0.100000</td>\n",
       "    </tr>\n",
       "    <tr>\n",
       "      <th>max</th>\n",
       "      <td>11077.000000</td>\n",
       "      <td>77.000000</td>\n",
       "      <td>18.400000</td>\n",
       "      <td>130.000000</td>\n",
       "      <td>0.250000</td>\n",
       "    </tr>\n",
       "  </tbody>\n",
       "</table>\n",
       "</div>"
      ],
      "text/plain": [
       "            OrderId   ProductId   UnitPrice    Quantity    Discount\n",
       "count    542.000000  542.000000  542.000000  542.000000  542.000000\n",
       "mean   10645.450185   42.516605   15.518081   24.476015    0.059668\n",
       "std      241.471506   24.138286    2.001916   18.737864    0.084154\n",
       "min    10248.000000    1.000000   12.400000    1.000000    0.000000\n",
       "25%    10439.250000   26.500000   14.000000   10.000000    0.000000\n",
       "50%    10646.000000   40.000000   15.200000   20.000000    0.000000\n",
       "75%    10845.000000   68.000000   17.562500   34.500000    0.100000\n",
       "max    11077.000000   77.000000   18.400000  130.000000    0.250000"
      ]
     },
     "execution_count": 60,
     "metadata": {},
     "output_type": "execute_result"
    }
   ],
   "source": [
    "Order_midlowprice.describe()"
   ]
  },
  {
   "cell_type": "code",
   "execution_count": 61,
   "metadata": {
    "hidden": true
   },
   "outputs": [
    {
     "data": {
      "text/html": [
       "<div>\n",
       "<style scoped>\n",
       "    .dataframe tbody tr th:only-of-type {\n",
       "        vertical-align: middle;\n",
       "    }\n",
       "\n",
       "    .dataframe tbody tr th {\n",
       "        vertical-align: top;\n",
       "    }\n",
       "\n",
       "    .dataframe thead th {\n",
       "        text-align: right;\n",
       "    }\n",
       "</style>\n",
       "<table border=\"1\" class=\"dataframe\">\n",
       "  <thead>\n",
       "    <tr style=\"text-align: right;\">\n",
       "      <th></th>\n",
       "      <th>OrderId</th>\n",
       "      <th>ProductId</th>\n",
       "      <th>UnitPrice</th>\n",
       "      <th>Quantity</th>\n",
       "      <th>Discount</th>\n",
       "    </tr>\n",
       "  </thead>\n",
       "  <tbody>\n",
       "    <tr>\n",
       "      <th>count</th>\n",
       "      <td>533.000000</td>\n",
       "      <td>533.000000</td>\n",
       "      <td>533.000000</td>\n",
       "      <td>533.000000</td>\n",
       "      <td>533.000000</td>\n",
       "    </tr>\n",
       "    <tr>\n",
       "      <th>mean</th>\n",
       "      <td>10666.793621</td>\n",
       "      <td>34.893058</td>\n",
       "      <td>24.515629</td>\n",
       "      <td>23.534709</td>\n",
       "      <td>0.057129</td>\n",
       "    </tr>\n",
       "    <tr>\n",
       "      <th>std</th>\n",
       "      <td>241.834154</td>\n",
       "      <td>23.566691</td>\n",
       "      <td>4.399765</td>\n",
       "      <td>18.851946</td>\n",
       "      <td>0.085254</td>\n",
       "    </tr>\n",
       "    <tr>\n",
       "      <th>min</th>\n",
       "      <td>10249.000000</td>\n",
       "      <td>2.000000</td>\n",
       "      <td>18.600000</td>\n",
       "      <td>1.000000</td>\n",
       "      <td>0.000000</td>\n",
       "    </tr>\n",
       "    <tr>\n",
       "      <th>25%</th>\n",
       "      <td>10455.000000</td>\n",
       "      <td>11.000000</td>\n",
       "      <td>21.000000</td>\n",
       "      <td>10.000000</td>\n",
       "      <td>0.000000</td>\n",
       "    </tr>\n",
       "    <tr>\n",
       "      <th>50%</th>\n",
       "      <td>10656.000000</td>\n",
       "      <td>32.000000</td>\n",
       "      <td>24.000000</td>\n",
       "      <td>20.000000</td>\n",
       "      <td>0.000000</td>\n",
       "    </tr>\n",
       "    <tr>\n",
       "      <th>75%</th>\n",
       "      <td>10872.000000</td>\n",
       "      <td>57.000000</td>\n",
       "      <td>28.500000</td>\n",
       "      <td>30.000000</td>\n",
       "      <td>0.100000</td>\n",
       "    </tr>\n",
       "    <tr>\n",
       "      <th>max</th>\n",
       "      <td>11077.000000</td>\n",
       "      <td>72.000000</td>\n",
       "      <td>32.000000</td>\n",
       "      <td>120.000000</td>\n",
       "      <td>0.250000</td>\n",
       "    </tr>\n",
       "  </tbody>\n",
       "</table>\n",
       "</div>"
      ],
      "text/plain": [
       "            OrderId   ProductId   UnitPrice    Quantity    Discount\n",
       "count    533.000000  533.000000  533.000000  533.000000  533.000000\n",
       "mean   10666.793621   34.893058   24.515629   23.534709    0.057129\n",
       "std      241.834154   23.566691    4.399765   18.851946    0.085254\n",
       "min    10249.000000    2.000000   18.600000    1.000000    0.000000\n",
       "25%    10455.000000   11.000000   21.000000   10.000000    0.000000\n",
       "50%    10656.000000   32.000000   24.000000   20.000000    0.000000\n",
       "75%    10872.000000   57.000000   28.500000   30.000000    0.100000\n",
       "max    11077.000000   72.000000   32.000000  120.000000    0.250000"
      ]
     },
     "execution_count": 61,
     "metadata": {},
     "output_type": "execute_result"
    }
   ],
   "source": [
    "#create a dataframe for third quartile of UnitPrice\n",
    "cur.execute('''SELECT * \n",
    "               FROM OrderDetail\n",
    "               WHERE UnitPrice > 18.4 AND UnitPrice <= 32;''')\n",
    "Order_midhighprice = pd.DataFrame(cur.fetchall())\n",
    "Order_midhighprice.columns = [x[0] for x in cur.description]\n",
    "Order_midhighprice.describe()"
   ]
  },
  {
   "cell_type": "code",
   "execution_count": 127,
   "metadata": {
    "hidden": true
   },
   "outputs": [
    {
     "data": {
      "text/html": [
       "<div>\n",
       "<style scoped>\n",
       "    .dataframe tbody tr th:only-of-type {\n",
       "        vertical-align: middle;\n",
       "    }\n",
       "\n",
       "    .dataframe tbody tr th {\n",
       "        vertical-align: top;\n",
       "    }\n",
       "\n",
       "    .dataframe thead th {\n",
       "        text-align: right;\n",
       "    }\n",
       "</style>\n",
       "<table border=\"1\" class=\"dataframe\">\n",
       "  <thead>\n",
       "    <tr style=\"text-align: right;\">\n",
       "      <th></th>\n",
       "      <th>OrderId</th>\n",
       "      <th>ProductId</th>\n",
       "      <th>UnitPrice</th>\n",
       "      <th>Quantity</th>\n",
       "      <th>Discount</th>\n",
       "    </tr>\n",
       "  </thead>\n",
       "  <tbody>\n",
       "    <tr>\n",
       "      <th>count</th>\n",
       "      <td>531.000000</td>\n",
       "      <td>531.000000</td>\n",
       "      <td>531.000000</td>\n",
       "      <td>531.000000</td>\n",
       "      <td>531.000000</td>\n",
       "    </tr>\n",
       "    <tr>\n",
       "      <th>mean</th>\n",
       "      <td>10700.459510</td>\n",
       "      <td>45.723164</td>\n",
       "      <td>57.779058</td>\n",
       "      <td>24.214689</td>\n",
       "      <td>0.054011</td>\n",
       "    </tr>\n",
       "    <tr>\n",
       "      <th>std</th>\n",
       "      <td>228.911567</td>\n",
       "      <td>18.727958</td>\n",
       "      <td>46.048807</td>\n",
       "      <td>19.803255</td>\n",
       "      <td>0.083095</td>\n",
       "    </tr>\n",
       "    <tr>\n",
       "      <th>min</th>\n",
       "      <td>10248.000000</td>\n",
       "      <td>8.000000</td>\n",
       "      <td>32.800000</td>\n",
       "      <td>1.000000</td>\n",
       "      <td>0.000000</td>\n",
       "    </tr>\n",
       "    <tr>\n",
       "      <th>25%</th>\n",
       "      <td>10529.500000</td>\n",
       "      <td>28.000000</td>\n",
       "      <td>36.400000</td>\n",
       "      <td>10.000000</td>\n",
       "      <td>0.000000</td>\n",
       "    </tr>\n",
       "    <tr>\n",
       "      <th>50%</th>\n",
       "      <td>10711.000000</td>\n",
       "      <td>53.000000</td>\n",
       "      <td>43.900000</td>\n",
       "      <td>20.000000</td>\n",
       "      <td>0.000000</td>\n",
       "    </tr>\n",
       "    <tr>\n",
       "      <th>75%</th>\n",
       "      <td>10891.000000</td>\n",
       "      <td>60.000000</td>\n",
       "      <td>54.000000</td>\n",
       "      <td>30.000000</td>\n",
       "      <td>0.100000</td>\n",
       "    </tr>\n",
       "    <tr>\n",
       "      <th>max</th>\n",
       "      <td>11077.000000</td>\n",
       "      <td>72.000000</td>\n",
       "      <td>263.500000</td>\n",
       "      <td>130.000000</td>\n",
       "      <td>0.250000</td>\n",
       "    </tr>\n",
       "  </tbody>\n",
       "</table>\n",
       "</div>"
      ],
      "text/plain": [
       "            OrderId   ProductId   UnitPrice    Quantity    Discount\n",
       "count    531.000000  531.000000  531.000000  531.000000  531.000000\n",
       "mean   10700.459510   45.723164   57.779058   24.214689    0.054011\n",
       "std      228.911567   18.727958   46.048807   19.803255    0.083095\n",
       "min    10248.000000    8.000000   32.800000    1.000000    0.000000\n",
       "25%    10529.500000   28.000000   36.400000   10.000000    0.000000\n",
       "50%    10711.000000   53.000000   43.900000   20.000000    0.000000\n",
       "75%    10891.000000   60.000000   54.000000   30.000000    0.100000\n",
       "max    11077.000000   72.000000  263.500000  130.000000    0.250000"
      ]
     },
     "execution_count": 127,
     "metadata": {},
     "output_type": "execute_result"
    }
   ],
   "source": [
    "#create a dataframe for third top of UnitPrice\n",
    "cur.execute('''SELECT * \n",
    "               FROM OrderDetail\n",
    "               WHERE UnitPrice > 32;''')\n",
    "Order_highprice = pd.DataFrame(cur.fetchall())\n",
    "Order_highprice.columns = [x[0] for x in cur.description]\n",
    "Order_highprice.describe()"
   ]
  },
  {
   "cell_type": "markdown",
   "metadata": {
    "heading_collapsed": true,
    "hidden": true
   },
   "source": [
    "### **3.1) One Tail Hypothese Test - Does Discount Matter for Low Price ( <= $12)?**"
   ]
  },
  {
   "cell_type": "code",
   "execution_count": 63,
   "metadata": {
    "hidden": true
   },
   "outputs": [],
   "source": [
    "discount_lowprice = Order_lowprice[Order_lowprice.Discount > 0]['Quantity'] #series, all rows w discount, but only quantity column\n",
    "no_discount_lowprice = Order_lowprice[Order_lowprice.Discount == 0]['Quantity']"
   ]
  },
  {
   "cell_type": "code",
   "execution_count": 64,
   "metadata": {
    "hidden": true
   },
   "outputs": [
    {
     "data": {
      "text/plain": [
       "2     25\n",
       "4     15\n",
       "9     16\n",
       "10    21\n",
       "13    36\n",
       "Name: Quantity, dtype: int64"
      ]
     },
     "execution_count": 64,
     "metadata": {},
     "output_type": "execute_result"
    }
   ],
   "source": [
    "discount_lowprice.head()"
   ]
  },
  {
   "cell_type": "code",
   "execution_count": 128,
   "metadata": {
    "hidden": true
   },
   "outputs": [
    {
     "name": "stdout",
     "output_type": "stream",
     "text": [
      "The discount group within the low price group contains 209 observations, having a mean of 24.89 and a standard deviation =  19.252 , with 837 degrees of freedom. The no discount group within the low price group contains 340 observations, and has a mean of 21.903 and a standard deviation =  18.275 . The difference between sample and population means is: 2.987\n"
     ]
    }
   ],
   "source": [
    "# No discount mean (μ1)\n",
    "mu_nodiscount_lowprice = no_discount_lowprice.mean()\n",
    "\n",
    "# Disount mean (x̄) using NumPy mean()\n",
    "mu_discount_lowprice = discount_lowprice.mean()\n",
    "\n",
    "# Sample Stadrad Deviation (sigma) using Numpy\n",
    "std_discount_lowprice = np.std(discount_lowprice)\n",
    "\n",
    "# Sample size (n)\n",
    "n_discount_lowprice = len(discount_lowprice)\n",
    "\n",
    "# Degrees of Freedom\n",
    "df_discount_lowprice = n-1\n",
    "\n",
    "# Difference in means\n",
    "diff_lowprice = mu_discount_lowprice - mu_nodiscount_lowprice\n",
    "\n",
    "\n",
    "# Print the findings\n",
    "print ('The discount group within the low price group contains', n_discount_lowprice, 'observations, having a mean of', np.round(mu_discount_lowprice,3), \n",
    "       \"and a standard deviation = \", np.round(std_discount_lowprice,3), \n",
    "       \", with\", df_discount_lowprice, \"degrees of freedom. The no discount group within the low price group contains\", len(no_discount_lowprice), \n",
    "       \"observations, and has a mean of\", np.round(mu_nodiscount_lowprice,3), \"and a standard deviation = \", \n",
    "       np.round(np.std(no_discount_lowprice,ddof=1),3), \n",
    "       \". The difference between sample and population means is:\", np.round(diff_lowprice,3))"
   ]
  },
  {
   "cell_type": "code",
   "execution_count": 66,
   "metadata": {
    "hidden": true
   },
   "outputs": [
    {
     "name": "stderr",
     "output_type": "stream",
     "text": [
      "/Users/tmm/anaconda3/envs/learn-env/lib/python3.6/site-packages/scipy/stats/stats.py:1713: FutureWarning: Using a non-tuple sequence for multidimensional indexing is deprecated; use `arr[tuple(seq)]` instead of `arr[seq]`. In the future this will be interpreted as an array index, `arr[np.array(seq)]`, which will result either in an error or a different result.\n",
      "  return np.add.reduce(sorted[indexer] * weights, axis=axis) / sumval\n"
     ]
    },
    {
     "data": {
      "image/png": "[encoded data removed]",
      "text/plain": [
       "<Figure size 864x720 with 1 Axes>"
      ]
     },
     "metadata": {},
     "output_type": "display_data"
    }
   ],
   "source": [
    "plt.title(\"No Discount (Low Price Group) vs. Discount (Low Price Group)\")\n",
    "sns.distplot(no_discount_lowprice, label='No Discount') \n",
    "sns.distplot(discount_lowprice, label='Discount')\n",
    "plt.legend()\n",
    "plt.show()"
   ]
  },
  {
   "cell_type": "markdown",
   "metadata": {
    "hidden": true
   },
   "source": [
    "\n",
    "#### Step 1: Write the null and alternative hypothesis statements\n",
    "\n",
    "$H_{0}$ : There is no relationship between quantity and discount for low price products, i.e. mean number of low price products sold with a discount <= mean number of low price products sold without a discount. \n",
    "\n",
    "     - mu_discount_lowprice <= 21.930\n",
    "\n",
    "$H_{1}$ : There is a relationship between quanity and discount for low price products, i.e. mean number of low price products sold with a discount <= mean number of low price products sold without a discount. \n",
    " \n",
    "\n",
    "    - mu_discount_lowprice > 21.930"
   ]
  },
  {
   "cell_type": "markdown",
   "metadata": {
    "hidden": true
   },
   "source": [
    "#### Step 2: Choose a significance level (`α`)\n",
    "\n",
    "`α` is the probability of rejecting the nully hypothesis when it is true. I will use the standard significance level of `α` = 0.05, meaning that there is a 5% chance risk of concluding that a difference exists when there is no actual difference."
   ]
  },
  {
   "cell_type": "markdown",
   "metadata": {
    "hidden": true
   },
   "source": [
    "#### Step 3: Calculate the t stat and p value using Welch's t test because size and variance is different between the groups"
   ]
  },
  {
   "cell_type": "code",
   "execution_count": 67,
   "metadata": {
    "hidden": true
   },
   "outputs": [
    {
     "name": "stdout",
     "output_type": "stream",
     "text": [
      "1.7965866751063824 421.85974122840736\n"
     ]
    }
   ],
   "source": [
    "t = welch_t(no_discount_lowprice, discount_lowprice)\n",
    "df = welch_df(no_discount_lowprice, discount_lowprice)\n",
    "print(t,df)"
   ]
  },
  {
   "cell_type": "code",
   "execution_count": 68,
   "metadata": {
    "hidden": true
   },
   "outputs": [
    {
     "name": "stdout",
     "output_type": "stream",
     "text": [
      "0.036558259811514615\n"
     ]
    }
   ],
   "source": [
    "welch_result_lowprice = p_value(no_discount_lowprice, discount_lowprice)\n",
    "print(welch_result_lowprice)"
   ]
  },
  {
   "cell_type": "code",
   "execution_count": 69,
   "metadata": {
    "hidden": true
   },
   "outputs": [
    {
     "name": "stdout",
     "output_type": "stream",
     "text": [
      "Welch's t-test: Null hypothesis rejected. Results are statistically significant with t-value = 1.797 and p-value = 0.036558259811514615 . I conclude with 95% confidence that there is a relationship between discount and quantity sold for the low price group. Larger quantities are sold when a discount is offered.\n"
     ]
    }
   ],
   "source": [
    "if  (welch_result_lowprice < 0.05):\n",
    "    print (\"Welch's t-test: Null hypothesis rejected. Results are statistically significant with t-value =\", \n",
    "           round(t, 3), \"and p-value =\", welch_result_lowprice,\". I conclude with 95% confidence that there is a relationship between discount and quantity sold for the low price group. Larger quantities are sold when a discount is offered.\")\n",
    "else:\n",
    "    print (\"Null hypothesis is Accepted\")"
   ]
  },
  {
   "cell_type": "code",
   "execution_count": 70,
   "metadata": {
    "hidden": true
   },
   "outputs": [
    {
     "data": {
      "text/plain": [
       "0.1599796998480053"
      ]
     },
     "execution_count": 70,
     "metadata": {},
     "output_type": "execute_result"
    }
   ],
   "source": [
    "Cohen_d(discount_lowprice, no_discount_lowprice)"
   ]
  },
  {
   "cell_type": "markdown",
   "metadata": {
    "hidden": true
   },
   "source": [
    "#### Conclusion - Does discount matter for low priced products?\n",
    "We see an effect size less than 0.2, indicating that while discount is statistically significant for low price products, the effect of discount at this price point is very small"
   ]
  },
  {
   "cell_type": "markdown",
   "metadata": {
    "heading_collapsed": true,
    "hidden": true
   },
   "source": [
    "### 3.2) **One Tail Hypothese Test - Does Discount Matter for Mid-Low Price ($12 < UnitPrice < $18.4 )?**"
   ]
  },
  {
   "cell_type": "code",
   "execution_count": 71,
   "metadata": {
    "hidden": true
   },
   "outputs": [],
   "source": [
    "discount_midlowprice = Order_midlowprice[Order_midlowprice.Discount > 0]['Quantity'] #series, all rows w discount, but only quantity column\n",
    "no_discount_midlowprice = Order_midlowprice[Order_midlowprice.Discount == 0]['Quantity']"
   ]
  },
  {
   "cell_type": "code",
   "execution_count": 129,
   "metadata": {
    "hidden": true
   },
   "outputs": [
    {
     "name": "stdout",
     "output_type": "stream",
     "text": [
      "The discount group within the mid-low price group contains 222 observations, having a mean of 28.486 and a standard deviation =  21.461 , with 221 degrees of freedom. The no discount group within the mid-low price group contains 320 observations, and has a mean of 21.694 . The difference between sample and population means is: 6.793\n"
     ]
    }
   ],
   "source": [
    "# No discount mean (μ1)\n",
    "mu_nodiscount_midlowprice = no_discount_midlowprice.mean()\n",
    "\n",
    "# Disount mean (x̄) using NumPy mean()\n",
    "mu_discount_midlowprice = discount_midlowprice.mean()\n",
    "\n",
    "# Sample size (n)\n",
    "n_discount_midlowprice = len(discount_midlowprice)\n",
    "\n",
    "# Degrees of Freedom\n",
    "df_discount_midlowprice = n_discount_midlowprice-1\n",
    "\n",
    "# Sample Stadrad Deviation (sigma) using Numpy\n",
    "std_discount_midlowprice = np.std(discount_midlowprice)\n",
    "\n",
    "# Difference in means\n",
    "diff_midlowprice = mu_discount_midlowprice - mu_nodiscount_midlowprice\n",
    "\n",
    "\n",
    "# Print the findings\n",
    "print ('The discount group within the mid-low price group contains', n_discount_midlowprice, 'observations, having a mean of', np.round(mu_discount_midlowprice,3), \n",
    "       \"and a standard deviation = \", np.round(std_discount_midlowprice,3), \n",
    "       \", with\", df_discount_midlowprice, \"degrees of freedom. The no discount group within the mid-low price group contains\", len(no_discount_midlowprice), \n",
    "       \"observations, and has a mean of\", np.round(mu_nodiscount_midlowprice,3), \n",
    "       \". The difference between sample and population means is:\", np.round(diff_midlowprice,3))"
   ]
  },
  {
   "cell_type": "code",
   "execution_count": 73,
   "metadata": {
    "hidden": true
   },
   "outputs": [
    {
     "name": "stderr",
     "output_type": "stream",
     "text": [
      "/Users/tmm/anaconda3/envs/learn-env/lib/python3.6/site-packages/scipy/stats/stats.py:1713: FutureWarning: Using a non-tuple sequence for multidimensional indexing is deprecated; use `arr[tuple(seq)]` instead of `arr[seq]`. In the future this will be interpreted as an array index, `arr[np.array(seq)]`, which will result either in an error or a different result.\n",
      "  return np.add.reduce(sorted[indexer] * weights, axis=axis) / sumval\n"
     ]
    },
    {
     "data": {
      "image/png": "[encoded data removed]",
      "text/plain": [
       "<Figure size 864x720 with 1 Axes>"
      ]
     },
     "metadata": {},
     "output_type": "display_data"
    }
   ],
   "source": [
    "plt.title(\"No Discount (Mid-Low Price Group) vs. Discount (Mid-Low Price Group)\")\n",
    "sns.distplot(no_discount_midlowprice, label='No Discount') \n",
    "sns.distplot(discount_midlowprice, label='Discount')\n",
    "plt.legend()\n",
    "plt.show()"
   ]
  },
  {
   "cell_type": "markdown",
   "metadata": {
    "hidden": true
   },
   "source": [
    "#### Step 1: Write the null and alternative hypothesis statements\n",
    "\n",
    "$H_{0}$ : There is no relationship between quantity sold and discount for mid-low price products, i.e. mean number of low price products sold with a discount <= mean number of low price products sold without a discount. \n",
    "\n",
    "    - mu_discount_midlowprice <= 21.694\n",
    "\n",
    "$H_{1}$ : There is a relationship between quanity sold and discount for mid-low price products, i.e. mean number of low price products sold with a discount <= mean number of low price products sold without a discount. \n",
    " \n",
    "\n",
    "    - mu_discount_midlowprice > 21.694\n"
   ]
  },
  {
   "cell_type": "markdown",
   "metadata": {
    "hidden": true
   },
   "source": [
    "#### Step 2: Choose a significance level (`α`)\n",
    "\n",
    "`α` is the probability of rejecting the nully hypothesis when it is true. I will use the standard significance level of `α` = 0.05, meaning that there is a 5% chance risk of concluding that a difference exists when there is no actual difference."
   ]
  },
  {
   "cell_type": "markdown",
   "metadata": {
    "hidden": true
   },
   "source": [
    "#### Step 3: Calculate the t stat and p value using Welch's t test because the number of observations in each group is not equal."
   ]
  },
  {
   "cell_type": "code",
   "execution_count": 132,
   "metadata": {
    "hidden": true
   },
   "outputs": [
    {
     "name": "stdout",
     "output_type": "stream",
     "text": [
      "Welch's t stat = 3.999888459323016 df = 384.0012814521908\n",
      "Welch's t test p value = 3.801646436729644e-05\n",
      "Welch's t-test: Null hypothesis rejected. Results are statistically significant with t-value = 4.0 and p-value = 3.801646436729644e-05 . I conclude with 95% confidence that there is a relationship between discount and quantity sold for the low price group. Larger quantities are sold when a discount is offered.\n"
     ]
    }
   ],
   "source": [
    "t = welch_t(no_discount_midlowprice, discount_midlowprice)\n",
    "df = welch_df(no_discount_midlowprice, discount_midlowprice)\n",
    "print(\"Welch's t stat =\",t,\"df =\",df)\n",
    "\n",
    "welch_result_midlowprice = p_value(no_discount_midlowprice, discount_midlowprice)\n",
    "print(\"Welch's t test p value =\", welch_result_midlowprice)\n",
    "\n",
    "if  (welch_result_midlowprice < 0.05):\n",
    "    print (\"Welch's t-test: Null hypothesis rejected. Results are statistically significant with t-value =\", \n",
    "           round(t, 3), \"and p-value =\", welch_result_midlowprice,\". I conclude with 95% confidence that there is a relationship between discount and quantity sold for the low price group. Larger quantities are sold when a discount is offered.\")\n",
    "else:\n",
    "    print (\"Null hypothesis is Accepted\")"
   ]
  },
  {
   "cell_type": "code",
   "execution_count": 133,
   "metadata": {
    "hidden": true
   },
   "outputs": [
    {
     "data": {
      "text/plain": [
       "0.3680484082392516"
      ]
     },
     "execution_count": 133,
     "metadata": {},
     "output_type": "execute_result"
    }
   ],
   "source": [
    "Cohen_d(discount_midlowprice, no_discount_midlowprice)"
   ]
  },
  {
   "cell_type": "markdown",
   "metadata": {
    "hidden": true
   },
   "source": [
    "#### Conclusion - Does discount matter for mid-low priced products?\n",
    "We see an effect size less than 0.368, indicating that discounts applied to products priced greater than 12, but less than 18.4 have a larger effect that discounts applied to products priced less than $12."
   ]
  },
  {
   "cell_type": "markdown",
   "metadata": {
    "heading_collapsed": true,
    "hidden": true
   },
   "source": [
    "### **3.3) One Tail Hypothese Test - Does Discount Matter for Mid-High Price ($18.4 < UnitPrice < $32 )?**"
   ]
  },
  {
   "cell_type": "code",
   "execution_count": 76,
   "metadata": {
    "hidden": true
   },
   "outputs": [],
   "source": [
    "discount_midhighprice = Order_midhighprice[Order_midhighprice.Discount > 0]['Quantity'] #series, all rows w discount, but only quantity column\n",
    "no_discount_midhighprice = Order_midhighprice[Order_midhighprice.Discount == 0]['Quantity']"
   ]
  },
  {
   "cell_type": "code",
   "execution_count": 134,
   "metadata": {
    "hidden": true
   },
   "outputs": [
    {
     "name": "stdout",
     "output_type": "stream",
     "text": [
      "The discount group within the mid-high price group contains 207 observations, having a mean of 28.126 and a standard deviation =  22.345 , with 206 degrees of freedom. The no discount group within the mid-high price group contains 326 observations, and has a mean of 20.62 . The difference between sample and population means is: 7.506\n"
     ]
    }
   ],
   "source": [
    "# No discount mean (μ1)\n",
    "mu_nodiscount_midhighprice = no_discount_midhighprice.mean()\n",
    "\n",
    "# Disount mean (x̄) using NumPy mean()\n",
    "mu_discount_midhighprice = discount_midhighprice.mean()\n",
    "\n",
    "# Sample size (n)\n",
    "n_discount_midhighprice = len(discount_midhighprice)\n",
    "\n",
    "# Degrees of Freedom\n",
    "df_discount_midhighprice = n_discount_midhighprice-1\n",
    "\n",
    "# Sample Stadrad Deviation (sigma) using Numpy\n",
    "std_discount_midhighprice = np.std(discount_midhighprice)\n",
    "\n",
    "# Difference in means\n",
    "diff_midhighprice = mu_discount_midhighprice - mu_nodiscount_midhighprice\n",
    "\n",
    "\n",
    "# Print the findings\n",
    "print ('The discount group within the mid-high price group contains', n_discount_midhighprice, 'observations, having a mean of', np.round(mu_discount_midhighprice,3), \n",
    "       \"and a standard deviation = \", np.round(std_discount_midhighprice,3), \n",
    "       \", with\", df_discount_midhighprice, \"degrees of freedom. The no discount group within the mid-high price group contains\", len(no_discount_midhighprice), \n",
    "       \"observations, and has a mean of\", np.round(mu_nodiscount_midhighprice,3), \n",
    "       \". The difference between sample and population means is:\", np.round(diff_midhighprice,3))"
   ]
  },
  {
   "cell_type": "code",
   "execution_count": 78,
   "metadata": {
    "hidden": true
   },
   "outputs": [
    {
     "name": "stderr",
     "output_type": "stream",
     "text": [
      "/Users/tmm/anaconda3/envs/learn-env/lib/python3.6/site-packages/scipy/stats/stats.py:1713: FutureWarning: Using a non-tuple sequence for multidimensional indexing is deprecated; use `arr[tuple(seq)]` instead of `arr[seq]`. In the future this will be interpreted as an array index, `arr[np.array(seq)]`, which will result either in an error or a different result.\n",
      "  return np.add.reduce(sorted[indexer] * weights, axis=axis) / sumval\n"
     ]
    },
    {
     "data": {
      "image/png": "[encoded data removed]",
      "text/plain": [
       "<Figure size 864x720 with 1 Axes>"
      ]
     },
     "metadata": {},
     "output_type": "display_data"
    }
   ],
   "source": [
    "plt.title(\"No Discount (Mid-High Price Group) vs. Discount (Mid-High Price Group)\")\n",
    "sns.distplot(no_discount_midhighprice, label='No Discount') \n",
    "sns.distplot(discount_midhighprice, label='Discount')\n",
    "plt.legend()\n",
    "plt.show()"
   ]
  },
  {
   "cell_type": "markdown",
   "metadata": {
    "hidden": true
   },
   "source": [
    "#### Step 1: Write the null and alternative hypothesis statements\n",
    "\n",
    "$H_{0}$ : There is no relationship between quantity sold and discount for mid-high priced products, i.e. mean number of mid-high price products sold with a discount <= mean number of mid-high price products sold without a discount. \n",
    "\n",
    "    - mu_discount_midhighprice <= 20.62\n",
    "\n",
    "$H_{1}$ : There is a relationship between quanity and discount for mid-high price products, i.e. mean number of mid-high price products sold with a discount <= mean number of mid-high price products sold without a discount. \n",
    " \n",
    "\n",
    "    - mu_discount_midhighprice > 20.62\n"
   ]
  },
  {
   "cell_type": "markdown",
   "metadata": {
    "hidden": true
   },
   "source": [
    "#### Step 2: Choose a significance level (`α`)\n",
    "\n",
    "`α` is the probability of rejecting the nully hypothesis when it is true. I will use the standard significance level of `α` = 0.05, meaning that there is a 5% chance risk of concluding that a difference exists when there is no actual difference."
   ]
  },
  {
   "cell_type": "markdown",
   "metadata": {
    "hidden": true
   },
   "source": [
    "#### Step 3: Calculate the t stat and p value using Welch's t test because the number of observations in each group is not equal."
   ]
  },
  {
   "cell_type": "code",
   "execution_count": 135,
   "metadata": {
    "hidden": true
   },
   "outputs": [
    {
     "name": "stdout",
     "output_type": "stream",
     "text": [
      "Welch's t stat = 4.218748506074823 df = 331.66859192460504\n",
      "Welch's t test p value = 1.5869468364959616e-05\n",
      "Welch's t-test: Null hypothesis rejected. Results are statistically significant with t-value = 4.219 and p-value = 1.5869468364959616e-05 . I conclude with 95% confidence that there is a relationship between discount and quantity sold for the low price group. Larger quantities are sold when a discount is offered.\n"
     ]
    }
   ],
   "source": [
    "\n",
    "\n",
    "t = welch_t(no_discount_midhighprice, discount_midhighprice)\n",
    "df = welch_df(no_discount_midhighprice, discount_midhighprice)\n",
    "print(\"Welch's t stat =\",t,\"df =\",df)\n",
    "\n",
    "welch_result_midhighprice = p_value(no_discount_midhighprice, discount_midhighprice)\n",
    "print(\"Welch's t test p value =\",welch_result_midhighprice)\n",
    "\n",
    "if  (welch_result_midhighprice < 0.05):\n",
    "    print (\"Welch's t-test: Null hypothesis rejected. Results are statistically significant with t-value =\", \n",
    "           round(t, 3), \"and p-value =\", welch_result_midhighprice,\". I conclude with 95% confidence that there is a relationship between discount and quantity sold for the low price group. Larger quantities are sold when a discount is offered.\")\n",
    "else:\n",
    "    print (\"Null hypothesis is Accepted\")"
   ]
  },
  {
   "cell_type": "code",
   "execution_count": 80,
   "metadata": {
    "hidden": true
   },
   "outputs": [
    {
     "data": {
      "text/plain": [
       "0.4054373400386941"
      ]
     },
     "execution_count": 80,
     "metadata": {},
     "output_type": "execute_result"
    }
   ],
   "source": [
    "Cohen_d(discount_midhighprice, no_discount_midhighprice)"
   ]
  },
  {
   "cell_type": "markdown",
   "metadata": {
    "hidden": true
   },
   "source": [
    "#### 3.3) Conclusion - Does discount matter for mid-low priced products?\n",
    "We see an effect size less than 0.405, indicating that discounts applied to products priced greater than 18.4, but less than 32 have a larger effect that discounts applied to products priced less than 12 and between 12 and 18.4. A cohen's d less than 0.5 is still considered \"small effect\", but we are getting close to medium effect."
   ]
  },
  {
   "cell_type": "markdown",
   "metadata": {
    "heading_collapsed": true,
    "hidden": true
   },
   "source": [
    "###  3.4) **One Tail Hypothese Test - Does Discount Matter for High Priced Products ( UnitPrice > $32 )?**"
   ]
  },
  {
   "cell_type": "code",
   "execution_count": 81,
   "metadata": {
    "hidden": true
   },
   "outputs": [],
   "source": [
    "discount_highprice = Order_highprice[Order_highprice.Discount > 0]['Quantity'] #series, all rows w discount, but only quantity column\n",
    "no_discount_highprice = Order_highprice[Order_highprice.Discount == 0]['Quantity']"
   ]
  },
  {
   "cell_type": "code",
   "execution_count": 82,
   "metadata": {
    "hidden": true
   },
   "outputs": [
    {
     "name": "stdout",
     "output_type": "stream",
     "text": [
      "The discount group within the high price group contains 200 observations, having a mean of 26.85 and a standard deviation =  276.354 , with 199 degrees of freedom. The no discount group within the high price group contains 331 observations, and has a mean of 22.622 . The difference between sample and population means is: 4.228\n"
     ]
    }
   ],
   "source": [
    "# No discount mean (μ1)\n",
    "mu_nodiscount_highprice = no_discount_highprice.mean()\n",
    "\n",
    "# Disount mean (x̄) using NumPy mean()\n",
    "mu_discount_highprice = discount_highprice.mean()\n",
    "\n",
    "# Sample size (n)\n",
    "n_discount_highprice = len(discount_highprice)\n",
    "\n",
    "# Degrees of Freedom\n",
    "df_discount_highprice = n_discount_highprice-1\n",
    "\n",
    "# Sample Stadrad Deviation (sigma) using Numpy\n",
    "std_discount_highprice = np.std(discount_highprice,ddof=df_discount_highprice)\n",
    "\n",
    "# Difference in means\n",
    "diff_highprice = mu_discount_highprice - mu_nodiscount_highprice\n",
    "\n",
    "\n",
    "# Print the findings\n",
    "print ('The discount group within the high price group contains', n_discount_highprice, 'observations, having a mean of', np.round(mu_discount_highprice,3), \n",
    "       \"and a standard deviation = \", np.round(std_discount_highprice,3), \n",
    "       \", with\", df_discount_highprice, \"degrees of freedom. The no discount group within the high price group contains\", len(no_discount_highprice), \n",
    "       \"observations, and has a mean of\", np.round(mu_nodiscount_highprice,3), \n",
    "       \". The difference between sample and population means is:\", np.round(diff_highprice,3))"
   ]
  },
  {
   "cell_type": "code",
   "execution_count": 83,
   "metadata": {
    "hidden": true
   },
   "outputs": [
    {
     "name": "stderr",
     "output_type": "stream",
     "text": [
      "/Users/tmm/anaconda3/envs/learn-env/lib/python3.6/site-packages/scipy/stats/stats.py:1713: FutureWarning: Using a non-tuple sequence for multidimensional indexing is deprecated; use `arr[tuple(seq)]` instead of `arr[seq]`. In the future this will be interpreted as an array index, `arr[np.array(seq)]`, which will result either in an error or a different result.\n",
      "  return np.add.reduce(sorted[indexer] * weights, axis=axis) / sumval\n"
     ]
    },
    {
     "data": {
      "image/png": "[encoded data removed]",
      "text/plain": [
       "<Figure size 864x720 with 1 Axes>"
      ]
     },
     "metadata": {},
     "output_type": "display_data"
    }
   ],
   "source": [
    "plt.title(\"No Discount (High Price Group) vs. Discount (High Price Group)\")\n",
    "sns.distplot(no_discount_highprice, label='No Discount') \n",
    "sns.distplot(discount_highprice, label='Discount')\n",
    "plt.legend()\n",
    "plt.show()"
   ]
  },
  {
   "cell_type": "markdown",
   "metadata": {
    "hidden": true
   },
   "source": [
    "#### Step 1: Write the null and alternative hypothesis statements\n",
    "\n",
    "$H_{0}$ : There is no relationship between quantity and discount for high price products, i.e. mean number of high price products sold with a discount <= mean number of high price products sold without a discount. \n",
    "\n",
    " mu_discount_highprice <= 22.622\n",
    "\n",
    "$H_{1}$ : There is a relationship between quanity and discount for high price products, i.e. mean number of high price products sold with a discount <= mean number of high price products sold without a discount. \n",
    " \n",
    "\n",
    "mu_discount_highprice > 21.694\n"
   ]
  },
  {
   "cell_type": "markdown",
   "metadata": {
    "hidden": true
   },
   "source": [
    "#### Step 2: Choose a significance level (`α`)\n",
    "\n",
    "`α` is the probability of rejecting the nully hypothesis when it is true. I will use the standard significance level of `α` = 0.05, meaning that there is a 5% chance risk of concluding that a difference exists when there is no actual difference."
   ]
  },
  {
   "cell_type": "markdown",
   "metadata": {
    "hidden": true
   },
   "source": [
    "#### Step 3: Calculate the t stat and p value using Welch's t test because the number of observations in each group is not equal."
   ]
  },
  {
   "cell_type": "code",
   "execution_count": 136,
   "metadata": {
    "hidden": true
   },
   "outputs": [
    {
     "name": "stdout",
     "output_type": "stream",
     "text": [
      "Welch's t stat = 2.4003029056728606 df = 423.0826677505384\n",
      "Welch's t test p value = 0.00840632587291601\n",
      "Welch's t-test: Null hypothesis rejected. Results are statistically significant with t-value = 2.4 and p-value = 0.00840632587291601 . I conclude with 95% confidence that there is a relationship between discount and quantity sold for the high price group. Larger quantities are sold when a discount is offered.\n"
     ]
    }
   ],
   "source": [
    "t = welch_t(no_discount_highprice, discount_highprice)\n",
    "df = welch_df(no_discount_highprice, discount_highprice)\n",
    "print(\"Welch's t stat =\",t,\"df =\",df)\n",
    "\n",
    "welch_result_highprice = p_value(no_discount_highprice, discount_highprice)\n",
    "print(\"Welch's t test p value =\",welch_result_highprice)\n",
    "\n",
    "if  (welch_result_highprice < 0.05):\n",
    "    print (\"Welch's t-test: Null hypothesis rejected. Results are statistically significant with t-value =\", \n",
    "           round(t, 3), \"and p-value =\", welch_result_highprice,\". I conclude with 95% confidence that there is a relationship between discount and quantity sold for the high price group. Larger quantities are sold when a discount is offered.\")\n",
    "else:\n",
    "    print (\"Null hypothesis is Accepted\")"
   ]
  },
  {
   "cell_type": "code",
   "execution_count": 85,
   "metadata": {
    "hidden": true
   },
   "outputs": [
    {
     "data": {
      "text/plain": [
       "0.21443427574918894"
      ]
     },
     "execution_count": 85,
     "metadata": {},
     "output_type": "execute_result"
    }
   ],
   "source": [
    "Cohen_d(discount_highprice, no_discount_highprice)"
   ]
  },
  {
   "cell_type": "markdown",
   "metadata": {
    "hidden": true
   },
   "source": [
    "#### 3.3) Conclusion - Does discount matter for high priced products?\n",
    "We see an effect size of 0.214, indicating that discounts applied to products priced greater than $32 has a small effect in terms of increasing quantity sold. "
   ]
  },
  {
   "cell_type": "markdown",
   "metadata": {
    "heading_collapsed": true,
    "hidden": true
   },
   "source": [
    "### Conclusion - What price level is most impacted by discounts?"
   ]
  },
  {
   "cell_type": "code",
   "execution_count": 86,
   "metadata": {
    "hidden": true
   },
   "outputs": [
    {
     "name": "stdout",
     "output_type": "stream",
     "text": [
      "Effect of discount on low price group: d =  0.1599796998480053\n",
      "Effect of discount on mid-low price group: d =  0.3680484082392516\n",
      "Effect of discount on mid-high price group: d =  0.4054373400386941\n",
      "Effect of discount on high price group: d =  0.21443427574918894\n"
     ]
    }
   ],
   "source": [
    "print(\"Effect of discount on low price group: d = \", Cohen_d(discount_lowprice, no_discount_lowprice))\n",
    "print(\"Effect of discount on mid-low price group: d = \", Cohen_d(discount_midlowprice, no_discount_midlowprice))\n",
    "print(\"Effect of discount on mid-high price group: d = \", Cohen_d(discount_midhighprice, no_discount_midhighprice))\n",
    "print(\"Effect of discount on high price group: d = \", Cohen_d(discount_highprice, no_discount_highprice))"
   ]
  },
  {
   "cell_type": "markdown",
   "metadata": {
    "hidden": true
   },
   "source": [
    "Comparing the Cohen's d for all 4 price groups, I conclude that while discount is statistically significant in increasing the quantity sold for all groups, the effect of discount is most impactful on quanity sold for the mid-high price products, followed by mid-low price, then high price, and has the least effect on low price products."
   ]
  },
  {
   "cell_type": "markdown",
   "metadata": {
    "heading_collapsed": true
   },
   "source": [
    "## Q 4) Within Each Price Group, Does Level of Discount Matter?"
   ]
  },
  {
   "cell_type": "markdown",
   "metadata": {
    "heading_collapsed": true,
    "hidden": true
   },
   "source": [
    "### Q 4.1) Analysis of Variance (ANOVA) - Does level of discount matter within the low price group?"
   ]
  },
  {
   "cell_type": "code",
   "execution_count": 87,
   "metadata": {
    "hidden": true
   },
   "outputs": [
    {
     "data": {
      "text/html": [
       "<div>\n",
       "<style scoped>\n",
       "    .dataframe tbody tr th:only-of-type {\n",
       "        vertical-align: middle;\n",
       "    }\n",
       "\n",
       "    .dataframe tbody tr th {\n",
       "        vertical-align: top;\n",
       "    }\n",
       "\n",
       "    .dataframe thead th {\n",
       "        text-align: right;\n",
       "    }\n",
       "</style>\n",
       "<table border=\"1\" class=\"dataframe\">\n",
       "  <thead>\n",
       "    <tr style=\"text-align: right;\">\n",
       "      <th></th>\n",
       "      <th>Id</th>\n",
       "      <th>OrderId</th>\n",
       "      <th>ProductId</th>\n",
       "      <th>UnitPrice</th>\n",
       "      <th>Quantity</th>\n",
       "      <th>Discount</th>\n",
       "    </tr>\n",
       "  </thead>\n",
       "  <tbody>\n",
       "    <tr>\n",
       "      <th>2</th>\n",
       "      <td>10252/33</td>\n",
       "      <td>10252</td>\n",
       "      <td>33</td>\n",
       "      <td>2.0</td>\n",
       "      <td>25</td>\n",
       "      <td>0.05</td>\n",
       "    </tr>\n",
       "    <tr>\n",
       "      <th>4</th>\n",
       "      <td>10254/24</td>\n",
       "      <td>10254</td>\n",
       "      <td>24</td>\n",
       "      <td>3.6</td>\n",
       "      <td>15</td>\n",
       "      <td>0.15</td>\n",
       "    </tr>\n",
       "    <tr>\n",
       "      <th>9</th>\n",
       "      <td>10260/41</td>\n",
       "      <td>10260</td>\n",
       "      <td>41</td>\n",
       "      <td>7.7</td>\n",
       "      <td>16</td>\n",
       "      <td>0.25</td>\n",
       "    </tr>\n",
       "    <tr>\n",
       "      <th>10</th>\n",
       "      <td>10260/70</td>\n",
       "      <td>10260</td>\n",
       "      <td>70</td>\n",
       "      <td>12.0</td>\n",
       "      <td>21</td>\n",
       "      <td>0.25</td>\n",
       "    </tr>\n",
       "    <tr>\n",
       "      <th>13</th>\n",
       "      <td>10263/74</td>\n",
       "      <td>10263</td>\n",
       "      <td>74</td>\n",
       "      <td>8.0</td>\n",
       "      <td>36</td>\n",
       "      <td>0.25</td>\n",
       "    </tr>\n",
       "  </tbody>\n",
       "</table>\n",
       "</div>"
      ],
      "text/plain": [
       "          Id  OrderId  ProductId  UnitPrice  Quantity  Discount\n",
       "2   10252/33    10252         33        2.0        25      0.05\n",
       "4   10254/24    10254         24        3.6        15      0.15\n",
       "9   10260/41    10260         41        7.7        16      0.25\n",
       "10  10260/70    10260         70       12.0        21      0.25\n",
       "13  10263/74    10263         74        8.0        36      0.25"
      ]
     },
     "execution_count": 87,
     "metadata": {},
     "output_type": "execute_result"
    }
   ],
   "source": [
    "df_discount5_lowprice = Order_lowprice[Order_lowprice.Discount > .04]\n",
    "df_discount5_lowprice.head()"
   ]
  },
  {
   "cell_type": "markdown",
   "metadata": {
    "hidden": true
   },
   "source": [
    "Is there a difference in quantity sold at different levels of discount for products priced under $12?\n",
    "\n",
    "$H_{0}$  : There is no relationship between quantity and level of discount, i.e. mean number sold is the same at each level\n",
    "\n",
    "- mu_discount5 = mu_discount6 = mu_discount10 = mu_discount15 = mu_discount20 = mu_discount25\n",
    "\n",
    "$H_{1}$ : There is a relationship between quanity and level of discount, i.e. mean number sold differ by level of discount\n",
    "    \n",
    "- mu_discount5 != mu_discount6 != mu_discount10 != mu_discount15 != mu_discount20 != mu_discount25"
   ]
  },
  {
   "cell_type": "code",
   "execution_count": 138,
   "metadata": {
    "hidden": true
   },
   "outputs": [
    {
     "name": "stdout",
     "output_type": "stream",
     "text": [
      "                   sum_sq     df         F   PR(>F)\n",
      "C(Discount)   1861.758980    4.0  1.257724  0.28792\n",
      "Residual     75123.236213  203.0       NaN      NaN\n"
     ]
    }
   ],
   "source": [
    "formula = 'Quantity ~ C(Discount)'\n",
    "lm = ols(formula, df_discount5_lowprice).fit()\n",
    "table = sm.stats.anova_lm(lm, typ=2)\n",
    "print(table)"
   ]
  },
  {
   "cell_type": "markdown",
   "metadata": {
    "hidden": true
   },
   "source": [
    "#### Q4.1) Conclusion:"
   ]
  },
  {
   "cell_type": "markdown",
   "metadata": {
    "hidden": true
   },
   "source": [
    "- PR(>F) > alpha\n",
    "- 0.28792 > 0.05\n",
    "\n",
    "With 95% confidence I conclude that there is no significant difference between the quantity of products sold at different discount levels within the low price group. While applying a discount does significantly increase the number of low priced products sold, the level of discount applied doesn't matter."
   ]
  },
  {
   "cell_type": "markdown",
   "metadata": {
    "heading_collapsed": true,
    "hidden": true
   },
   "source": [
    "### Q 4.2) Analysis of Variance (ANOVA) - Does level of discount matter within the mid-low price group?"
   ]
  },
  {
   "cell_type": "code",
   "execution_count": 89,
   "metadata": {
    "hidden": true
   },
   "outputs": [
    {
     "data": {
      "text/html": [
       "<div>\n",
       "<style scoped>\n",
       "    .dataframe tbody tr th:only-of-type {\n",
       "        vertical-align: middle;\n",
       "    }\n",
       "\n",
       "    .dataframe tbody tr th {\n",
       "        vertical-align: top;\n",
       "    }\n",
       "\n",
       "    .dataframe thead th {\n",
       "        text-align: right;\n",
       "    }\n",
       "</style>\n",
       "<table border=\"1\" class=\"dataframe\">\n",
       "  <thead>\n",
       "    <tr style=\"text-align: right;\">\n",
       "      <th></th>\n",
       "      <th>Id</th>\n",
       "      <th>OrderId</th>\n",
       "      <th>ProductId</th>\n",
       "      <th>UnitPrice</th>\n",
       "      <th>Quantity</th>\n",
       "      <th>Discount</th>\n",
       "    </tr>\n",
       "  </thead>\n",
       "  <tbody>\n",
       "    <tr>\n",
       "      <th>1</th>\n",
       "      <td>10250/65</td>\n",
       "      <td>10250</td>\n",
       "      <td>65</td>\n",
       "      <td>16.8</td>\n",
       "      <td>15</td>\n",
       "      <td>0.15</td>\n",
       "    </tr>\n",
       "    <tr>\n",
       "      <th>2</th>\n",
       "      <td>10251/22</td>\n",
       "      <td>10251</td>\n",
       "      <td>22</td>\n",
       "      <td>16.8</td>\n",
       "      <td>6</td>\n",
       "      <td>0.05</td>\n",
       "    </tr>\n",
       "    <tr>\n",
       "      <th>3</th>\n",
       "      <td>10251/57</td>\n",
       "      <td>10251</td>\n",
       "      <td>57</td>\n",
       "      <td>15.6</td>\n",
       "      <td>15</td>\n",
       "      <td>0.05</td>\n",
       "    </tr>\n",
       "    <tr>\n",
       "      <th>11</th>\n",
       "      <td>10258/2</td>\n",
       "      <td>10258</td>\n",
       "      <td>2</td>\n",
       "      <td>15.2</td>\n",
       "      <td>50</td>\n",
       "      <td>0.20</td>\n",
       "    </tr>\n",
       "    <tr>\n",
       "      <th>12</th>\n",
       "      <td>10258/5</td>\n",
       "      <td>10258</td>\n",
       "      <td>5</td>\n",
       "      <td>17.0</td>\n",
       "      <td>65</td>\n",
       "      <td>0.20</td>\n",
       "    </tr>\n",
       "  </tbody>\n",
       "</table>\n",
       "</div>"
      ],
      "text/plain": [
       "          Id  OrderId  ProductId  UnitPrice  Quantity  Discount\n",
       "1   10250/65    10250         65       16.8        15      0.15\n",
       "2   10251/22    10251         22       16.8         6      0.05\n",
       "3   10251/57    10251         57       15.6        15      0.05\n",
       "11   10258/2    10258          2       15.2        50      0.20\n",
       "12   10258/5    10258          5       17.0        65      0.20"
      ]
     },
     "execution_count": 89,
     "metadata": {},
     "output_type": "execute_result"
    }
   ],
   "source": [
    "df_discount5_midlowprice = Order_midlowprice[Order_midlowprice.Discount > .04]\n",
    "df_discount5_midlowprice.head()"
   ]
  },
  {
   "cell_type": "markdown",
   "metadata": {
    "hidden": true
   },
   "source": [
    "Is there a difference in quantity sold at different levels of discount for products priced between 12 and 18.4?\n",
    "\n",
    "$H_{0}$  : There is no relationship between quantity and level of discount, i.e. mean number sold is the same at each level\n",
    "\n",
    "- mu_discount5 = mu_discount6 = mu_discount10 = mu_discount15 = mu_discount20 = mu_discount25\n",
    "\n",
    "$H_{1}$ : There is a relationship between quanity and level of discount, i.e. mean number sold differ by level of discount\n",
    "    \n",
    "- mu_discount5 != mu_discount6 != mu_discount10 != mu_discount15 != mu_discount20 != mu_discount25"
   ]
  },
  {
   "cell_type": "code",
   "execution_count": 90,
   "metadata": {
    "hidden": true
   },
   "outputs": [
    {
     "name": "stdout",
     "output_type": "stream",
     "text": [
      "                   sum_sq     df         F    PR(>F)\n",
      "C(Discount)    845.610065    4.0  0.454561  0.769006\n",
      "Residual     99990.026299  215.0       NaN       NaN\n"
     ]
    }
   ],
   "source": [
    "#is there a difference between the levels of discount for mid-low priced products?\n",
    "\n",
    "formula = 'Quantity ~ C(Discount)'\n",
    "lm = ols(formula, df_discount5_midlowprice).fit()\n",
    "table = sm.stats.anova_lm(lm, typ=2)\n",
    "print(table)"
   ]
  },
  {
   "cell_type": "markdown",
   "metadata": {
    "heading_collapsed": true,
    "hidden": true
   },
   "source": [
    "#### Q 4.2) Conclusion:"
   ]
  },
  {
   "cell_type": "markdown",
   "metadata": {
    "hidden": true
   },
   "source": [
    "- PR(>F) > alpha\n",
    "- 0.769 > 0.05\n",
    "\n",
    "With 95% confidence I conclude that there is no significant difference between the quantity of products sold at different discount levels for the mid-low price group. While applying a discount does significantly increase the number of mid-low priced products sold, the level of discount applied doesn't matter."
   ]
  },
  {
   "cell_type": "markdown",
   "metadata": {
    "heading_collapsed": true,
    "hidden": true
   },
   "source": [
    "### Q 4.3) Analysis of Variance (ANOVA) - Does level of discount matter within the mid-high price group?"
   ]
  },
  {
   "cell_type": "code",
   "execution_count": 91,
   "metadata": {
    "hidden": true
   },
   "outputs": [
    {
     "data": {
      "text/html": [
       "<div>\n",
       "<style scoped>\n",
       "    .dataframe tbody tr th:only-of-type {\n",
       "        vertical-align: middle;\n",
       "    }\n",
       "\n",
       "    .dataframe tbody tr th {\n",
       "        vertical-align: top;\n",
       "    }\n",
       "\n",
       "    .dataframe thead th {\n",
       "        text-align: right;\n",
       "    }\n",
       "</style>\n",
       "<table border=\"1\" class=\"dataframe\">\n",
       "  <thead>\n",
       "    <tr style=\"text-align: right;\">\n",
       "      <th></th>\n",
       "      <th>Id</th>\n",
       "      <th>OrderId</th>\n",
       "      <th>ProductId</th>\n",
       "      <th>UnitPrice</th>\n",
       "      <th>Quantity</th>\n",
       "      <th>Discount</th>\n",
       "    </tr>\n",
       "  </thead>\n",
       "  <tbody>\n",
       "    <tr>\n",
       "      <th>2</th>\n",
       "      <td>10254/55</td>\n",
       "      <td>10254</td>\n",
       "      <td>55</td>\n",
       "      <td>19.2</td>\n",
       "      <td>21</td>\n",
       "      <td>0.15</td>\n",
       "    </tr>\n",
       "    <tr>\n",
       "      <th>4</th>\n",
       "      <td>10258/32</td>\n",
       "      <td>10258</td>\n",
       "      <td>32</td>\n",
       "      <td>25.6</td>\n",
       "      <td>6</td>\n",
       "      <td>0.20</td>\n",
       "    </tr>\n",
       "    <tr>\n",
       "      <th>8</th>\n",
       "      <td>10263/30</td>\n",
       "      <td>10263</td>\n",
       "      <td>30</td>\n",
       "      <td>20.7</td>\n",
       "      <td>60</td>\n",
       "      <td>0.25</td>\n",
       "    </tr>\n",
       "    <tr>\n",
       "      <th>10</th>\n",
       "      <td>10266/12</td>\n",
       "      <td>10266</td>\n",
       "      <td>12</td>\n",
       "      <td>30.4</td>\n",
       "      <td>12</td>\n",
       "      <td>0.05</td>\n",
       "    </tr>\n",
       "    <tr>\n",
       "      <th>12</th>\n",
       "      <td>10269/72</td>\n",
       "      <td>10269</td>\n",
       "      <td>72</td>\n",
       "      <td>27.8</td>\n",
       "      <td>20</td>\n",
       "      <td>0.05</td>\n",
       "    </tr>\n",
       "  </tbody>\n",
       "</table>\n",
       "</div>"
      ],
      "text/plain": [
       "          Id  OrderId  ProductId  UnitPrice  Quantity  Discount\n",
       "2   10254/55    10254         55       19.2        21      0.15\n",
       "4   10258/32    10258         32       25.6         6      0.20\n",
       "8   10263/30    10263         30       20.7        60      0.25\n",
       "10  10266/12    10266         12       30.4        12      0.05\n",
       "12  10269/72    10269         72       27.8        20      0.05"
      ]
     },
     "execution_count": 91,
     "metadata": {},
     "output_type": "execute_result"
    }
   ],
   "source": [
    "df_discount5_midhighprice = Order_midhighprice[Order_midhighprice.Discount > .04]\n",
    "df_discount5_midhighprice.head()"
   ]
  },
  {
   "cell_type": "markdown",
   "metadata": {
    "hidden": true
   },
   "source": [
    "Is there a difference in quantity sold at different levels of discount for products priced between 18.4 and 32?\n",
    "\n",
    "$H_{0}$  : There is no relationship between quantity and level of discount, i.e. mean number sold is the same at each level\n",
    "\n",
    "- mu_discount5 = mu_discount6 = mu_discount10 = mu_discount15 = mu_discount20 = mu_discount25\n",
    "\n",
    "$H_{1}$ : There is a relationship between quanity and level of discount, i.e. mean number sold differ by level of discount\n",
    "    \n",
    "- mu_discount5 != mu_discount6 != mu_discount10 != mu_discount15 != mu_discount20 != mu_discount25"
   ]
  },
  {
   "cell_type": "code",
   "execution_count": 92,
   "metadata": {
    "hidden": true
   },
   "outputs": [
    {
     "name": "stdout",
     "output_type": "stream",
     "text": [
      "                   sum_sq     df         F    PR(>F)\n",
      "C(Discount)   2429.165297    4.0  1.221378  0.302949\n",
      "Residual     99443.615190  200.0       NaN       NaN\n"
     ]
    }
   ],
   "source": [
    "#is there a difference between the levels of discount for mid-high priced products?\n",
    "\n",
    "formula = 'Quantity ~ C(Discount)'\n",
    "lm = ols(formula, df_discount5_midhighprice).fit()\n",
    "table = sm.stats.anova_lm(lm, typ=2)\n",
    "print(table)"
   ]
  },
  {
   "cell_type": "markdown",
   "metadata": {
    "heading_collapsed": true,
    "hidden": true
   },
   "source": [
    "#### Q4.3) Conclusion:"
   ]
  },
  {
   "cell_type": "markdown",
   "metadata": {
    "hidden": true
   },
   "source": [
    "- PR(>F) > alpha\n",
    "- 0.303 > 0.05\n",
    "\n",
    "With 95% confidence I conclude that there is no significant difference between the quantity of products sold at different discount levels for the mid-high price group. While applying a discount does significantly increase the number of mid-high priced products sold, the level of discount applied doesn't matter."
   ]
  },
  {
   "cell_type": "markdown",
   "metadata": {
    "heading_collapsed": true,
    "hidden": true
   },
   "source": [
    "### Q 4.4) Analysis of Variance (ANOVA) - Does level of discount matter within the high price group?"
   ]
  },
  {
   "cell_type": "code",
   "execution_count": 93,
   "metadata": {
    "hidden": true
   },
   "outputs": [
    {
     "data": {
      "text/html": [
       "<div>\n",
       "<style scoped>\n",
       "    .dataframe tbody tr th:only-of-type {\n",
       "        vertical-align: middle;\n",
       "    }\n",
       "\n",
       "    .dataframe tbody tr th {\n",
       "        vertical-align: top;\n",
       "    }\n",
       "\n",
       "    .dataframe thead th {\n",
       "        text-align: right;\n",
       "    }\n",
       "</style>\n",
       "<table border=\"1\" class=\"dataframe\">\n",
       "  <thead>\n",
       "    <tr style=\"text-align: right;\">\n",
       "      <th></th>\n",
       "      <th>Id</th>\n",
       "      <th>OrderId</th>\n",
       "      <th>ProductId</th>\n",
       "      <th>UnitPrice</th>\n",
       "      <th>Quantity</th>\n",
       "      <th>Discount</th>\n",
       "    </tr>\n",
       "  </thead>\n",
       "  <tbody>\n",
       "    <tr>\n",
       "      <th>2</th>\n",
       "      <td>10250/51</td>\n",
       "      <td>10250</td>\n",
       "      <td>51</td>\n",
       "      <td>42.4</td>\n",
       "      <td>35</td>\n",
       "      <td>0.15</td>\n",
       "    </tr>\n",
       "    <tr>\n",
       "      <th>3</th>\n",
       "      <td>10252/20</td>\n",
       "      <td>10252</td>\n",
       "      <td>20</td>\n",
       "      <td>64.8</td>\n",
       "      <td>40</td>\n",
       "      <td>0.05</td>\n",
       "    </tr>\n",
       "    <tr>\n",
       "      <th>6</th>\n",
       "      <td>10260/62</td>\n",
       "      <td>10260</td>\n",
       "      <td>62</td>\n",
       "      <td>39.4</td>\n",
       "      <td>15</td>\n",
       "      <td>0.25</td>\n",
       "    </tr>\n",
       "    <tr>\n",
       "      <th>7</th>\n",
       "      <td>10267/59</td>\n",
       "      <td>10267</td>\n",
       "      <td>59</td>\n",
       "      <td>44.0</td>\n",
       "      <td>70</td>\n",
       "      <td>0.15</td>\n",
       "    </tr>\n",
       "    <tr>\n",
       "      <th>11</th>\n",
       "      <td>10275/59</td>\n",
       "      <td>10275</td>\n",
       "      <td>59</td>\n",
       "      <td>44.0</td>\n",
       "      <td>6</td>\n",
       "      <td>0.05</td>\n",
       "    </tr>\n",
       "  </tbody>\n",
       "</table>\n",
       "</div>"
      ],
      "text/plain": [
       "          Id  OrderId  ProductId  UnitPrice  Quantity  Discount\n",
       "2   10250/51    10250         51       42.4        35      0.15\n",
       "3   10252/20    10252         20       64.8        40      0.05\n",
       "6   10260/62    10260         62       39.4        15      0.25\n",
       "7   10267/59    10267         59       44.0        70      0.15\n",
       "11  10275/59    10275         59       44.0         6      0.05"
      ]
     },
     "execution_count": 93,
     "metadata": {},
     "output_type": "execute_result"
    }
   ],
   "source": [
    "df_discount5_highprice = Order_highprice[Order_highprice.Discount > .04]\n",
    "df_discount5_highprice.head()"
   ]
  },
  {
   "cell_type": "markdown",
   "metadata": {
    "hidden": true
   },
   "source": [
    "Is there a difference in quantity sold at different levels of discount for products priced over $32?\n",
    "\n",
    "$H_{0}$  : There is no relationship between quantity and level of discount, i.e. mean number sold is the same at each level\n",
    "\n",
    "- mu_discount5 = mu_discount6 = mu_discount10 = mu_discount15 = mu_discount20 = mu_discount25\n",
    "\n",
    "$H_{1}$ : There is a relationship between quanity and level of discount, i.e. mean number sold differ by level of discount\n",
    "    \n",
    "- mu_discount5 != mu_discount6 != mu_discount10 != mu_discount15 != mu_discount20 != mu_discount25"
   ]
  },
  {
   "cell_type": "code",
   "execution_count": 139,
   "metadata": {
    "hidden": true
   },
   "outputs": [
    {
     "name": "stdout",
     "output_type": "stream",
     "text": [
      "                   sum_sq     df         F    PR(>F)\n",
      "C(Discount)   1391.378190    5.0  0.725135  0.605343\n",
      "Residual     73681.394537  192.0       NaN       NaN\n"
     ]
    }
   ],
   "source": [
    "formula = 'Quantity ~ C(Discount)'\n",
    "lm = ols(formula, df_discount5_highprice).fit()\n",
    "table = sm.stats.anova_lm(lm, typ=2)\n",
    "print(table)"
   ]
  },
  {
   "cell_type": "markdown",
   "metadata": {
    "hidden": true
   },
   "source": [
    "#### Q 4.4) Conclusion:"
   ]
  },
  {
   "cell_type": "markdown",
   "metadata": {
    "hidden": true
   },
   "source": [
    "- PR(>F) > alpha\n",
    "- 0.605 > 0.05\n",
    "\n",
    "With 95% confidence I conclude that there is no significant difference between the quantity of products sold at different discount levels for the high price group. While applying a discount does significantly increase the number of high priced products sold, the level of discount applied doesn't matter."
   ]
  },
  {
   "cell_type": "markdown",
   "metadata": {
    "heading_collapsed": true,
    "hidden": true
   },
   "source": [
    "### Conclusion - Does level of discount matter within the price groups?"
   ]
  },
  {
   "cell_type": "markdown",
   "metadata": {
    "hidden": true
   },
   "source": [
    "At alpha = 0.05, I am 95% confident that while discount increases the quantity sold for each price group, the level of discount applied doesn't matter in any of the price groups."
   ]
  },
  {
   "cell_type": "markdown",
   "metadata": {
    "heading_collapsed": true
   },
   "source": [
    "## Future Work/Unsused DFs and Variables"
   ]
  },
  {
   "cell_type": "code",
   "execution_count": null,
   "metadata": {
    "hidden": true
   },
   "outputs": [],
   "source": [
    "#Joining Product Table w Order Detail Table"
   ]
  },
  {
   "cell_type": "code",
   "execution_count": 143,
   "metadata": {
    "hidden": true
   },
   "outputs": [],
   "source": [
    "cur.execute('''SELECT * \n",
    "               FROM Product\n",
    "               JOIN OrderDetail\n",
    "               ON Product.ID = OrderDetail.ProductID;''')\n",
    "ProductandOrders = pd.DataFrame(cur.fetchall())\n",
    "ProductandOrders.columns = [x[0] for x in cur.description]\n",
    "            "
   ]
  },
  {
   "cell_type": "code",
   "execution_count": 144,
   "metadata": {
    "hidden": true,
    "scrolled": true
   },
   "outputs": [
    {
     "data": {
      "text/html": [
       "<div>\n",
       "<style scoped>\n",
       "    .dataframe tbody tr th:only-of-type {\n",
       "        vertical-align: middle;\n",
       "    }\n",
       "\n",
       "    .dataframe tbody tr th {\n",
       "        vertical-align: top;\n",
       "    }\n",
       "\n",
       "    .dataframe thead th {\n",
       "        text-align: right;\n",
       "    }\n",
       "</style>\n",
       "<table border=\"1\" class=\"dataframe\">\n",
       "  <thead>\n",
       "    <tr style=\"text-align: right;\">\n",
       "      <th></th>\n",
       "      <th>Id</th>\n",
       "      <th>ProductName</th>\n",
       "      <th>SupplierId</th>\n",
       "      <th>CategoryId</th>\n",
       "      <th>QuantityPerUnit</th>\n",
       "      <th>UnitPrice</th>\n",
       "      <th>UnitsInStock</th>\n",
       "      <th>UnitsOnOrder</th>\n",
       "      <th>ReorderLevel</th>\n",
       "      <th>Discontinued</th>\n",
       "      <th>Id</th>\n",
       "      <th>OrderId</th>\n",
       "      <th>ProductId</th>\n",
       "      <th>UnitPrice</th>\n",
       "      <th>Quantity</th>\n",
       "      <th>Discount</th>\n",
       "    </tr>\n",
       "  </thead>\n",
       "  <tbody>\n",
       "    <tr>\n",
       "      <th>0</th>\n",
       "      <td>11</td>\n",
       "      <td>Queso Cabrales</td>\n",
       "      <td>5</td>\n",
       "      <td>4</td>\n",
       "      <td>1 kg pkg.</td>\n",
       "      <td>21.00</td>\n",
       "      <td>22</td>\n",
       "      <td>30</td>\n",
       "      <td>30</td>\n",
       "      <td>0</td>\n",
       "      <td>10248/11</td>\n",
       "      <td>10248</td>\n",
       "      <td>11</td>\n",
       "      <td>14.0</td>\n",
       "      <td>12</td>\n",
       "      <td>0.0</td>\n",
       "    </tr>\n",
       "    <tr>\n",
       "      <th>1</th>\n",
       "      <td>42</td>\n",
       "      <td>Singaporean Hokkien Fried Mee</td>\n",
       "      <td>20</td>\n",
       "      <td>5</td>\n",
       "      <td>32 - 1 kg pkgs.</td>\n",
       "      <td>14.00</td>\n",
       "      <td>26</td>\n",
       "      <td>0</td>\n",
       "      <td>0</td>\n",
       "      <td>1</td>\n",
       "      <td>10248/42</td>\n",
       "      <td>10248</td>\n",
       "      <td>42</td>\n",
       "      <td>9.8</td>\n",
       "      <td>10</td>\n",
       "      <td>0.0</td>\n",
       "    </tr>\n",
       "    <tr>\n",
       "      <th>2</th>\n",
       "      <td>72</td>\n",
       "      <td>Mozzarella di Giovanni</td>\n",
       "      <td>14</td>\n",
       "      <td>4</td>\n",
       "      <td>24 - 200 g pkgs.</td>\n",
       "      <td>34.80</td>\n",
       "      <td>14</td>\n",
       "      <td>0</td>\n",
       "      <td>0</td>\n",
       "      <td>0</td>\n",
       "      <td>10248/72</td>\n",
       "      <td>10248</td>\n",
       "      <td>72</td>\n",
       "      <td>34.8</td>\n",
       "      <td>5</td>\n",
       "      <td>0.0</td>\n",
       "    </tr>\n",
       "    <tr>\n",
       "      <th>3</th>\n",
       "      <td>14</td>\n",
       "      <td>Tofu</td>\n",
       "      <td>6</td>\n",
       "      <td>7</td>\n",
       "      <td>40 - 100 g pkgs.</td>\n",
       "      <td>23.25</td>\n",
       "      <td>35</td>\n",
       "      <td>0</td>\n",
       "      <td>0</td>\n",
       "      <td>0</td>\n",
       "      <td>10249/14</td>\n",
       "      <td>10249</td>\n",
       "      <td>14</td>\n",
       "      <td>18.6</td>\n",
       "      <td>9</td>\n",
       "      <td>0.0</td>\n",
       "    </tr>\n",
       "    <tr>\n",
       "      <th>4</th>\n",
       "      <td>51</td>\n",
       "      <td>Manjimup Dried Apples</td>\n",
       "      <td>24</td>\n",
       "      <td>7</td>\n",
       "      <td>50 - 300 g pkgs.</td>\n",
       "      <td>53.00</td>\n",
       "      <td>20</td>\n",
       "      <td>0</td>\n",
       "      <td>10</td>\n",
       "      <td>0</td>\n",
       "      <td>10249/51</td>\n",
       "      <td>10249</td>\n",
       "      <td>51</td>\n",
       "      <td>42.4</td>\n",
       "      <td>40</td>\n",
       "      <td>0.0</td>\n",
       "    </tr>\n",
       "  </tbody>\n",
       "</table>\n",
       "</div>"
      ],
      "text/plain": [
       "   Id                    ProductName  SupplierId  CategoryId  \\\n",
       "0  11                 Queso Cabrales           5           4   \n",
       "1  42  Singaporean Hokkien Fried Mee          20           5   \n",
       "2  72         Mozzarella di Giovanni          14           4   \n",
       "3  14                           Tofu           6           7   \n",
       "4  51          Manjimup Dried Apples          24           7   \n",
       "\n",
       "    QuantityPerUnit  UnitPrice  UnitsInStock  UnitsOnOrder  ReorderLevel  \\\n",
       "0         1 kg pkg.      21.00            22            30            30   \n",
       "1   32 - 1 kg pkgs.      14.00            26             0             0   \n",
       "2  24 - 200 g pkgs.      34.80            14             0             0   \n",
       "3  40 - 100 g pkgs.      23.25            35             0             0   \n",
       "4  50 - 300 g pkgs.      53.00            20             0            10   \n",
       "\n",
       "   Discontinued        Id  OrderId  ProductId  UnitPrice  Quantity  Discount  \n",
       "0             0  10248/11    10248         11       14.0        12       0.0  \n",
       "1             1  10248/42    10248         42        9.8        10       0.0  \n",
       "2             0  10248/72    10248         72       34.8         5       0.0  \n",
       "3             0  10249/14    10249         14       18.6         9       0.0  \n",
       "4             0  10249/51    10249         51       42.4        40       0.0  "
      ]
     },
     "execution_count": 144,
     "metadata": {},
     "output_type": "execute_result"
    }
   ],
   "source": [
    "ProductandOrders.head()"
   ]
  },
  {
   "cell_type": "code",
   "execution_count": 145,
   "metadata": {
    "hidden": true
   },
   "outputs": [
    {
     "data": {
      "text/html": [
       "<div>\n",
       "<style scoped>\n",
       "    .dataframe tbody tr th:only-of-type {\n",
       "        vertical-align: middle;\n",
       "    }\n",
       "\n",
       "    .dataframe tbody tr th {\n",
       "        vertical-align: top;\n",
       "    }\n",
       "\n",
       "    .dataframe thead th {\n",
       "        text-align: right;\n",
       "    }\n",
       "</style>\n",
       "<table border=\"1\" class=\"dataframe\">\n",
       "  <thead>\n",
       "    <tr style=\"text-align: right;\">\n",
       "      <th></th>\n",
       "      <th>Id</th>\n",
       "      <th>SupplierId</th>\n",
       "      <th>CategoryId</th>\n",
       "      <th>UnitPrice</th>\n",
       "      <th>UnitsInStock</th>\n",
       "      <th>UnitsOnOrder</th>\n",
       "      <th>ReorderLevel</th>\n",
       "      <th>Discontinued</th>\n",
       "      <th>OrderId</th>\n",
       "      <th>ProductId</th>\n",
       "      <th>UnitPrice</th>\n",
       "      <th>Quantity</th>\n",
       "      <th>Discount</th>\n",
       "    </tr>\n",
       "  </thead>\n",
       "  <tbody>\n",
       "    <tr>\n",
       "      <th>count</th>\n",
       "      <td>2155.000000</td>\n",
       "      <td>2155.000000</td>\n",
       "      <td>2155.000000</td>\n",
       "      <td>2155.000000</td>\n",
       "      <td>2155.000000</td>\n",
       "      <td>2155.000000</td>\n",
       "      <td>2155.000000</td>\n",
       "      <td>2155.000000</td>\n",
       "      <td>2155.000000</td>\n",
       "      <td>2155.000000</td>\n",
       "      <td>2155.000000</td>\n",
       "      <td>2155.000000</td>\n",
       "      <td>2155.000000</td>\n",
       "    </tr>\n",
       "    <tr>\n",
       "      <th>mean</th>\n",
       "      <td>40.793039</td>\n",
       "      <td>14.488167</td>\n",
       "      <td>4.135499</td>\n",
       "      <td>27.948687</td>\n",
       "      <td>39.795824</td>\n",
       "      <td>8.074246</td>\n",
       "      <td>11.900232</td>\n",
       "      <td>0.105800</td>\n",
       "      <td>10659.375870</td>\n",
       "      <td>40.793039</td>\n",
       "      <td>26.218520</td>\n",
       "      <td>23.812993</td>\n",
       "      <td>0.056167</td>\n",
       "    </tr>\n",
       "    <tr>\n",
       "      <th>std</th>\n",
       "      <td>22.159019</td>\n",
       "      <td>8.228640</td>\n",
       "      <td>2.378567</td>\n",
       "      <td>31.610706</td>\n",
       "      <td>36.055668</td>\n",
       "      <td>19.748983</td>\n",
       "      <td>10.791421</td>\n",
       "      <td>0.307653</td>\n",
       "      <td>241.378032</td>\n",
       "      <td>22.159019</td>\n",
       "      <td>29.827418</td>\n",
       "      <td>19.022047</td>\n",
       "      <td>0.083450</td>\n",
       "    </tr>\n",
       "    <tr>\n",
       "      <th>min</th>\n",
       "      <td>1.000000</td>\n",
       "      <td>1.000000</td>\n",
       "      <td>1.000000</td>\n",
       "      <td>2.500000</td>\n",
       "      <td>0.000000</td>\n",
       "      <td>0.000000</td>\n",
       "      <td>0.000000</td>\n",
       "      <td>0.000000</td>\n",
       "      <td>10248.000000</td>\n",
       "      <td>1.000000</td>\n",
       "      <td>2.000000</td>\n",
       "      <td>1.000000</td>\n",
       "      <td>0.000000</td>\n",
       "    </tr>\n",
       "    <tr>\n",
       "      <th>25%</th>\n",
       "      <td>22.000000</td>\n",
       "      <td>7.000000</td>\n",
       "      <td>2.000000</td>\n",
       "      <td>12.500000</td>\n",
       "      <td>17.000000</td>\n",
       "      <td>0.000000</td>\n",
       "      <td>0.000000</td>\n",
       "      <td>0.000000</td>\n",
       "      <td>10451.000000</td>\n",
       "      <td>22.000000</td>\n",
       "      <td>12.000000</td>\n",
       "      <td>10.000000</td>\n",
       "      <td>0.000000</td>\n",
       "    </tr>\n",
       "    <tr>\n",
       "      <th>50%</th>\n",
       "      <td>41.000000</td>\n",
       "      <td>14.000000</td>\n",
       "      <td>4.000000</td>\n",
       "      <td>19.450000</td>\n",
       "      <td>25.000000</td>\n",
       "      <td>0.000000</td>\n",
       "      <td>10.000000</td>\n",
       "      <td>0.000000</td>\n",
       "      <td>10657.000000</td>\n",
       "      <td>41.000000</td>\n",
       "      <td>18.400000</td>\n",
       "      <td>20.000000</td>\n",
       "      <td>0.000000</td>\n",
       "    </tr>\n",
       "    <tr>\n",
       "      <th>75%</th>\n",
       "      <td>60.000000</td>\n",
       "      <td>21.000000</td>\n",
       "      <td>6.000000</td>\n",
       "      <td>34.000000</td>\n",
       "      <td>57.000000</td>\n",
       "      <td>0.000000</td>\n",
       "      <td>20.000000</td>\n",
       "      <td>0.000000</td>\n",
       "      <td>10862.500000</td>\n",
       "      <td>60.000000</td>\n",
       "      <td>32.000000</td>\n",
       "      <td>30.000000</td>\n",
       "      <td>0.100000</td>\n",
       "    </tr>\n",
       "    <tr>\n",
       "      <th>max</th>\n",
       "      <td>77.000000</td>\n",
       "      <td>29.000000</td>\n",
       "      <td>8.000000</td>\n",
       "      <td>263.500000</td>\n",
       "      <td>125.000000</td>\n",
       "      <td>100.000000</td>\n",
       "      <td>30.000000</td>\n",
       "      <td>1.000000</td>\n",
       "      <td>11077.000000</td>\n",
       "      <td>77.000000</td>\n",
       "      <td>263.500000</td>\n",
       "      <td>130.000000</td>\n",
       "      <td>0.250000</td>\n",
       "    </tr>\n",
       "  </tbody>\n",
       "</table>\n",
       "</div>"
      ],
      "text/plain": [
       "                Id   SupplierId   CategoryId    UnitPrice  UnitsInStock  \\\n",
       "count  2155.000000  2155.000000  2155.000000  2155.000000   2155.000000   \n",
       "mean     40.793039    14.488167     4.135499    27.948687     39.795824   \n",
       "std      22.159019     8.228640     2.378567    31.610706     36.055668   \n",
       "min       1.000000     1.000000     1.000000     2.500000      0.000000   \n",
       "25%      22.000000     7.000000     2.000000    12.500000     17.000000   \n",
       "50%      41.000000    14.000000     4.000000    19.450000     25.000000   \n",
       "75%      60.000000    21.000000     6.000000    34.000000     57.000000   \n",
       "max      77.000000    29.000000     8.000000   263.500000    125.000000   \n",
       "\n",
       "       UnitsOnOrder  ReorderLevel  Discontinued       OrderId    ProductId  \\\n",
       "count   2155.000000   2155.000000   2155.000000   2155.000000  2155.000000   \n",
       "mean       8.074246     11.900232      0.105800  10659.375870    40.793039   \n",
       "std       19.748983     10.791421      0.307653    241.378032    22.159019   \n",
       "min        0.000000      0.000000      0.000000  10248.000000     1.000000   \n",
       "25%        0.000000      0.000000      0.000000  10451.000000    22.000000   \n",
       "50%        0.000000     10.000000      0.000000  10657.000000    41.000000   \n",
       "75%        0.000000     20.000000      0.000000  10862.500000    60.000000   \n",
       "max      100.000000     30.000000      1.000000  11077.000000    77.000000   \n",
       "\n",
       "         UnitPrice     Quantity     Discount  \n",
       "count  2155.000000  2155.000000  2155.000000  \n",
       "mean     26.218520    23.812993     0.056167  \n",
       "std      29.827418    19.022047     0.083450  \n",
       "min       2.000000     1.000000     0.000000  \n",
       "25%      12.000000    10.000000     0.000000  \n",
       "50%      18.400000    20.000000     0.000000  \n",
       "75%      32.000000    30.000000     0.100000  \n",
       "max     263.500000   130.000000     0.250000  "
      ]
     },
     "execution_count": 145,
     "metadata": {},
     "output_type": "execute_result"
    }
   ],
   "source": [
    "ProductandOrders.describe()"
   ]
  },
  {
   "cell_type": "code",
   "execution_count": 36,
   "metadata": {
    "hidden": true
   },
   "outputs": [],
   "source": [
    "#Creating Variables for levels of discounts (didn't end up needing for this project)"
   ]
  },
  {
   "cell_type": "code",
   "execution_count": 37,
   "metadata": {
    "hidden": true
   },
   "outputs": [],
   "source": [
    "discount1 = Order[Order.Discount == 0.01]['Quantity']"
   ]
  },
  {
   "cell_type": "code",
   "execution_count": 38,
   "metadata": {
    "hidden": true
   },
   "outputs": [
    {
     "data": {
      "text/plain": [
       "2152    2\n",
       "Name: Quantity, dtype: int64"
      ]
     },
     "execution_count": 38,
     "metadata": {},
     "output_type": "execute_result"
    }
   ],
   "source": [
    "discount1"
   ]
  },
  {
   "cell_type": "code",
   "execution_count": 39,
   "metadata": {
    "hidden": true
   },
   "outputs": [
    {
     "data": {
      "text/plain": [
       "2133    1\n",
       "2146    3\n",
       "Name: Quantity, dtype: int64"
      ]
     },
     "execution_count": 39,
     "metadata": {},
     "output_type": "execute_result"
    }
   ],
   "source": [
    "discount2 = Order[Order.Discount == 0.02]['Quantity']\n",
    "discount2"
   ]
  },
  {
   "cell_type": "code",
   "execution_count": 40,
   "metadata": {
    "hidden": true
   },
   "outputs": [
    {
     "data": {
      "text/plain": [
       "2139    1\n",
       "2140    2\n",
       "2150    2\n",
       "Name: Quantity, dtype: int64"
      ]
     },
     "execution_count": 40,
     "metadata": {},
     "output_type": "execute_result"
    }
   ],
   "source": [
    "discount3 = Order[Order.Discount == 0.03]['Quantity']\n",
    "discount3"
   ]
  },
  {
   "cell_type": "code",
   "execution_count": 41,
   "metadata": {
    "hidden": true
   },
   "outputs": [
    {
     "data": {
      "text/plain": [
       "2141    1\n",
       "Name: Quantity, dtype: int64"
      ]
     },
     "execution_count": 41,
     "metadata": {},
     "output_type": "execute_result"
    }
   ],
   "source": [
    "discount4 = Order[Order.Discount == 0.04]['Quantity']\n",
    "discount4"
   ]
  },
  {
   "cell_type": "code",
   "execution_count": 42,
   "metadata": {
    "hidden": true,
    "scrolled": true
   },
   "outputs": [
    {
     "data": {
      "text/plain": [
       "8         6\n",
       "9        15\n",
       "11       40\n",
       "12       25\n",
       "51       12\n",
       "57       60\n",
       "58       20\n",
       "65       24\n",
       "66       15\n",
       "68       60\n",
       "69       33\n",
       "72       12\n",
       "73        6\n",
       "216      10\n",
       "217       8\n",
       "218      20\n",
       "219      12\n",
       "244      70\n",
       "246      20\n",
       "247      12\n",
       "248      40\n",
       "256       4\n",
       "274      20\n",
       "276      77\n",
       "277      10\n",
       "292      10\n",
       "293      10\n",
       "294      20\n",
       "295      56\n",
       "296      70\n",
       "       ... \n",
       "1691    120\n",
       "1712     20\n",
       "1715     20\n",
       "1716     14\n",
       "1822     15\n",
       "1823      6\n",
       "1824     50\n",
       "1825     16\n",
       "1827     50\n",
       "1828     50\n",
       "1846      6\n",
       "1926     18\n",
       "1937     20\n",
       "1938     15\n",
       "1939     21\n",
       "1963     70\n",
       "1964     90\n",
       "1971     40\n",
       "1973     50\n",
       "1974     36\n",
       "1975     60\n",
       "2057     20\n",
       "2058     15\n",
       "2059     18\n",
       "2115     15\n",
       "2116     10\n",
       "2123     14\n",
       "2134      1\n",
       "2137      2\n",
       "2144      2\n",
       "Name: Quantity, Length: 185, dtype: int64"
      ]
     },
     "execution_count": 42,
     "metadata": {},
     "output_type": "execute_result"
    }
   ],
   "source": [
    "discount5 = Order[Order.Discount == 0.05]['Quantity']\n",
    "discount5"
   ]
  },
  {
   "cell_type": "code",
   "execution_count": 43,
   "metadata": {
    "hidden": true,
    "scrolled": true
   },
   "outputs": [
    {
     "data": {
      "text/plain": [
       "0        12\n",
       "1        10\n",
       "2         5\n",
       "3         9\n",
       "4        40\n",
       "5        10\n",
       "8         6\n",
       "9        15\n",
       "10       20\n",
       "11       40\n",
       "12       25\n",
       "13       40\n",
       "14       20\n",
       "15       42\n",
       "16       40\n",
       "19       21\n",
       "20       20\n",
       "21       35\n",
       "22       25\n",
       "23       30\n",
       "24       15\n",
       "25       12\n",
       "26       25\n",
       "27        6\n",
       "28       15\n",
       "32       10\n",
       "33        1\n",
       "35       50\n",
       "38       20\n",
       "39       20\n",
       "       ... \n",
       "2116     10\n",
       "2117      8\n",
       "2118     40\n",
       "2119     22\n",
       "2120    130\n",
       "2121     10\n",
       "2122     20\n",
       "2123     14\n",
       "2131      4\n",
       "2132      1\n",
       "2133      1\n",
       "2134      1\n",
       "2136      1\n",
       "2137      2\n",
       "2138      4\n",
       "2139      1\n",
       "2140      2\n",
       "2141      1\n",
       "2142      2\n",
       "2143      1\n",
       "2144      2\n",
       "2145      3\n",
       "2146      3\n",
       "2147      2\n",
       "2148      2\n",
       "2150      2\n",
       "2151      1\n",
       "2152      2\n",
       "2153      4\n",
       "2154      2\n",
       "Name: Quantity, Length: 1509, dtype: int64"
      ]
     },
     "execution_count": 43,
     "metadata": {},
     "output_type": "execute_result"
    }
   ],
   "source": [
    "discount_5orless = Order[Order.Discount <= 0.05]['Quantity']\n",
    "discount_5orless"
   ]
  },
  {
   "cell_type": "code",
   "execution_count": 44,
   "metadata": {
    "hidden": true
   },
   "outputs": [
    {
     "data": {
      "text/plain": [
       "2149    2\n",
       "Name: Quantity, dtype: int64"
      ]
     },
     "execution_count": 44,
     "metadata": {},
     "output_type": "execute_result"
    }
   ],
   "source": [
    "discount6 = Order[Order.Discount == 0.06]['Quantity']\n",
    "discount6"
   ]
  },
  {
   "cell_type": "code",
   "execution_count": 45,
   "metadata": {
    "hidden": true,
    "scrolled": true
   },
   "outputs": [
    {
     "data": {
      "text/plain": [
       "107     10\n",
       "108      3\n",
       "115     20\n",
       "116     24\n",
       "117      2\n",
       "147     40\n",
       "148     30\n",
       "149     15\n",
       "153     25\n",
       "154     25\n",
       "155     30\n",
       "177     40\n",
       "178     30\n",
       "179     25\n",
       "227     10\n",
       "228     40\n",
       "235     18\n",
       "263     36\n",
       "272     15\n",
       "273     18\n",
       "303     54\n",
       "304     55\n",
       "320      5\n",
       "321     13\n",
       "323     35\n",
       "344      8\n",
       "345     16\n",
       "346     20\n",
       "347     18\n",
       "348     20\n",
       "        ..\n",
       "1547    30\n",
       "1548    15\n",
       "1561    70\n",
       "1562    25\n",
       "1563    42\n",
       "1564    60\n",
       "1628    42\n",
       "1646    21\n",
       "1753    20\n",
       "1754    30\n",
       "1776    30\n",
       "1777    14\n",
       "1779    20\n",
       "1901    36\n",
       "1902     8\n",
       "1903    35\n",
       "1912    40\n",
       "1980    28\n",
       "2007    10\n",
       "2008    20\n",
       "2029    70\n",
       "2030    36\n",
       "2031    15\n",
       "2065    50\n",
       "2094    40\n",
       "2095    30\n",
       "2096    77\n",
       "2098    25\n",
       "2099     4\n",
       "2135     2\n",
       "Name: Quantity, Length: 173, dtype: int64"
      ]
     },
     "execution_count": 45,
     "metadata": {},
     "output_type": "execute_result"
    }
   ],
   "source": [
    "discount10 = Order[Order.Discount == 0.1]['Quantity']\n",
    "discount10"
   ]
  },
  {
   "cell_type": "code",
   "execution_count": 46,
   "metadata": {
    "hidden": true,
    "scrolled": true
   },
   "outputs": [
    {
     "data": {
      "text/plain": [
       "6     35\n",
       "7     15\n",
       "17    15\n",
       "18    21\n",
       "48    25\n",
       "Name: Quantity, dtype: int64"
      ]
     },
     "execution_count": 46,
     "metadata": {},
     "output_type": "execute_result"
    }
   ],
   "source": [
    "discount15 = Order[Order.Discount == 0.15]['Quantity']\n",
    "discount15.head()"
   ]
  },
  {
   "cell_type": "code",
   "execution_count": 47,
   "metadata": {
    "hidden": true
   },
   "outputs": [
    {
     "data": {
      "text/plain": [
       "2.0"
      ]
     },
     "execution_count": 47,
     "metadata": {},
     "output_type": "execute_result"
    }
   ],
   "source": [
    "discount1.mean()"
   ]
  },
  {
   "cell_type": "code",
   "execution_count": 48,
   "metadata": {
    "hidden": true
   },
   "outputs": [
    {
     "data": {
      "text/plain": [
       "2.0"
      ]
     },
     "execution_count": 48,
     "metadata": {},
     "output_type": "execute_result"
    }
   ],
   "source": [
    "discount2.mean()"
   ]
  },
  {
   "cell_type": "code",
   "execution_count": 49,
   "metadata": {
    "hidden": true
   },
   "outputs": [
    {
     "data": {
      "text/plain": [
       "1.6666666666666667"
      ]
     },
     "execution_count": 49,
     "metadata": {},
     "output_type": "execute_result"
    }
   ],
   "source": [
    "discount3.mean()"
   ]
  },
  {
   "cell_type": "code",
   "execution_count": 50,
   "metadata": {
    "hidden": true
   },
   "outputs": [
    {
     "data": {
      "text/plain": [
       "28.01081081081081"
      ]
     },
     "execution_count": 50,
     "metadata": {},
     "output_type": "execute_result"
    }
   ],
   "source": [
    "discount5.mean()"
   ]
  },
  {
   "cell_type": "code",
   "execution_count": 51,
   "metadata": {
    "hidden": true
   },
   "outputs": [
    {
     "data": {
      "text/plain": [
       "22.39430086149768"
      ]
     },
     "execution_count": 51,
     "metadata": {},
     "output_type": "execute_result"
    }
   ],
   "source": [
    "discount_5orless.mean()"
   ]
  }
 ],
 "metadata": {
  "kernelspec": {
   "display_name": "learn-env",
   "language": "python",
   "name": "learn-env"
  },
  "language_info": {
   "codemirror_mode": {
    "name": "ipython",
    "version": 3
   },
   "file_extension": ".py",
   "mimetype": "text/x-python",
   "name": "python",
   "nbconvert_exporter": "python",
   "pygments_lexer": "ipython3",
   "version": "3.6.6"
  },
  "toc": {
   "base_numbering": 1,
   "nav_menu": {},
   "number_sections": true,
   "sideBar": true,
   "skip_h1_title": false,
   "title_cell": "Table of Contents",
   "title_sidebar": "Contents",
   "toc_cell": false,
   "toc_position": {},
   "toc_section_display": true,
   "toc_window_display": false
  }
 },
 "nbformat": 4,
 "nbformat_minor": 2
}
